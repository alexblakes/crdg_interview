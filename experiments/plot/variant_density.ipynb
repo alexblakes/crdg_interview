{
 "cells": [
  {
   "cell_type": "code",
   "execution_count": 1,
   "metadata": {},
   "outputs": [],
   "source": [
    "from adjustText import adjust_text\n",
    "import matplotlib.pyplot as plt\n",
    "from matplotlib.pyplot import colormaps as cmaps\n",
    "import numpy as np\n",
    "import pandas as pd\n",
    "from scipy.stats import mannwhitneyu as mwu\n",
    "\n",
    "import src\n",
    "\n",
    "FILE_IN = \"data/final/snrna_variant_counts.tsv\"\n",
    "PNG=\"data/plots/snrna_variant_density.png\"\n",
    "SVG=\"data/plots/snrna_variant_density.svg\"\n"
   ]
  },
  {
   "cell_type": "code",
   "execution_count": 2,
   "metadata": {},
   "outputs": [
    {
     "data": {
      "text/markdown": [
       "<h5 style='text-align: left'><span style='color:None; background-color:None'>First 5 rows</span></h5>"
      ],
      "text/plain": [
       "<IPython.core.display.Markdown object>"
      ]
     },
     "metadata": {},
     "output_type": "display_data"
    },
    {
     "data": {
      "text/html": [
       "<div style=\"margin-left: 30px;\"><style type=\"text/css\">\n",
       "#T_1db63 tr:hover {\n",
       "  background-color: #2986cc;\n",
       "}\n",
       "</style>\n",
       "<table id=\"T_1db63\">\n",
       "  <thead>\n",
       "    <tr>\n",
       "      <th class=\"blank level0\" >&nbsp;</th>\n",
       "      <th id=\"T_1db63_level0_col0\" class=\"col_heading level0 col0\" >ensg</th>\n",
       "      <th id=\"T_1db63_level0_col1\" class=\"col_heading level0 col1\" >allele_type</th>\n",
       "      <th id=\"T_1db63_level0_col2\" class=\"col_heading level0 col2\" >symbol</th>\n",
       "      <th id=\"T_1db63_level0_col3\" class=\"col_heading level0 col3\" >gene_type</th>\n",
       "      <th id=\"T_1db63_level0_col4\" class=\"col_heading level0 col4\" >length</th>\n",
       "      <th id=\"T_1db63_level0_col5\" class=\"col_heading level0 col5\" >n_variants</th>\n",
       "      <th id=\"T_1db63_level0_col6\" class=\"col_heading level0 col6\" >variants_per_nt</th>\n",
       "    </tr>\n",
       "  </thead>\n",
       "  <tbody>\n",
       "    <tr>\n",
       "      <th id=\"T_1db63_level0_row0\" class=\"row_heading level0 row0\" >3164</th>\n",
       "      <td id=\"T_1db63_row0_col0\" class=\"data row0 col0\" >ENSG00000274452.1</td>\n",
       "      <td id=\"T_1db63_row0_col1\" class=\"data row0 col1\" >SNV</td>\n",
       "      <td id=\"T_1db63_row0_col2\" class=\"data row0 col2\" >U2</td>\n",
       "      <td id=\"T_1db63_row0_col3\" class=\"data row0 col3\" >snRNA</td>\n",
       "      <td id=\"T_1db63_row0_col4\" class=\"data row0 col4\" >191</td>\n",
       "      <td id=\"T_1db63_row0_col5\" class=\"data row0 col5\" >1</td>\n",
       "      <td id=\"T_1db63_row0_col6\" class=\"data row0 col6\" >0.005</td>\n",
       "    </tr>\n",
       "    <tr>\n",
       "      <th id=\"T_1db63_level0_row1\" class=\"row_heading level0 row1\" >3190</th>\n",
       "      <td id=\"T_1db63_row1_col0\" class=\"data row1 col0\" >ENSG00000275616.1</td>\n",
       "      <td id=\"T_1db63_row1_col1\" class=\"data row1 col1\" >SNV</td>\n",
       "      <td id=\"T_1db63_row1_col2\" class=\"data row1 col2\" >U2</td>\n",
       "      <td id=\"T_1db63_row1_col3\" class=\"data row1 col3\" >snRNA</td>\n",
       "      <td id=\"T_1db63_row1_col4\" class=\"data row1 col4\" >191</td>\n",
       "      <td id=\"T_1db63_row1_col5\" class=\"data row1 col5\" >9</td>\n",
       "      <td id=\"T_1db63_row1_col6\" class=\"data row1 col6\" >0.047</td>\n",
       "    </tr>\n",
       "    <tr>\n",
       "      <th id=\"T_1db63_level0_row2\" class=\"row_heading level0 row2\" >3166</th>\n",
       "      <td id=\"T_1db63_row2_col0\" class=\"data row2 col0\" >ENSG00000274585.2</td>\n",
       "      <td id=\"T_1db63_row2_col1\" class=\"data row2 col1\" >SNV</td>\n",
       "      <td id=\"T_1db63_row2_col2\" class=\"data row2 col2\" >RNU2-1</td>\n",
       "      <td id=\"T_1db63_row2_col3\" class=\"data row2 col3\" >snRNA</td>\n",
       "      <td id=\"T_1db63_row2_col4\" class=\"data row2 col4\" >188</td>\n",
       "      <td id=\"T_1db63_row2_col5\" class=\"data row2 col5\" >9</td>\n",
       "      <td id=\"T_1db63_row2_col6\" class=\"data row2 col6\" >0.048</td>\n",
       "    </tr>\n",
       "    <tr>\n",
       "      <th id=\"T_1db63_level0_row3\" class=\"row_heading level0 row3\" >3153</th>\n",
       "      <td id=\"T_1db63_row3_col0\" class=\"data row3 col0\" >ENSG00000274062.1</td>\n",
       "      <td id=\"T_1db63_row3_col1\" class=\"data row3 col1\" >SNV</td>\n",
       "      <td id=\"T_1db63_row3_col2\" class=\"data row3 col2\" >U2</td>\n",
       "      <td id=\"T_1db63_row3_col3\" class=\"data row3 col3\" >snRNA</td>\n",
       "      <td id=\"T_1db63_row3_col4\" class=\"data row3 col4\" >191</td>\n",
       "      <td id=\"T_1db63_row3_col5\" class=\"data row3 col5\" >10</td>\n",
       "      <td id=\"T_1db63_row3_col6\" class=\"data row3 col6\" >0.052</td>\n",
       "    </tr>\n",
       "    <tr>\n",
       "      <th id=\"T_1db63_level0_row4\" class=\"row_heading level0 row4\" >3173</th>\n",
       "      <td id=\"T_1db63_row4_col0\" class=\"data row4 col0\" >ENSG00000274862.1</td>\n",
       "      <td id=\"T_1db63_row4_col1\" class=\"data row4 col1\" >SNV</td>\n",
       "      <td id=\"T_1db63_row4_col2\" class=\"data row4 col2\" >U2</td>\n",
       "      <td id=\"T_1db63_row4_col3\" class=\"data row4 col3\" >snRNA</td>\n",
       "      <td id=\"T_1db63_row4_col4\" class=\"data row4 col4\" >191</td>\n",
       "      <td id=\"T_1db63_row4_col5\" class=\"data row4 col5\" >10</td>\n",
       "      <td id=\"T_1db63_row4_col6\" class=\"data row4 col6\" >0.052</td>\n",
       "    </tr>\n",
       "  </tbody>\n",
       "</table>\n",
       "</div>"
      ],
      "text/plain": [
       "<IPython.core.display.HTML object>"
      ]
     },
     "metadata": {},
     "output_type": "display_data"
    },
    {
     "data": {
      "text/markdown": [
       "<h5 style='text-align: left'><span style='color:None; background-color:None'>Info</span></h5>"
      ],
      "text/plain": [
       "<IPython.core.display.Markdown object>"
      ]
     },
     "metadata": {},
     "output_type": "display_data"
    },
    {
     "name": "stdout",
     "output_type": "stream",
     "text": [
      "<class 'pandas.core.frame.DataFrame'>\n",
      "Index: 3292 entries, 3164 to 2529\n",
      "Data columns (total 7 columns):\n",
      " #   Column           Non-Null Count  Dtype   \n",
      "---  ------           --------------  -----   \n",
      " 0   ensg             3292 non-null   object  \n",
      " 1   allele_type      3292 non-null   category\n",
      " 2   symbol           3292 non-null   object  \n",
      " 3   gene_type        3292 non-null   category\n",
      " 4   length           3292 non-null   int64   \n",
      " 5   n_variants       3292 non-null   int64   \n",
      " 6   variants_per_nt  3292 non-null   float64 \n",
      "dtypes: category(2), float64(1), int64(2), object(2)\n",
      "memory usage: 161.0+ KB\n",
      "\n"
     ]
    }
   ],
   "source": [
    "df = (\n",
    "    pd.read_csv(FILE_IN, sep=\"\\t\")\n",
    "    .assign(\n",
    "        allele_type=lambda x: pd.Categorical(\n",
    "            x.allele_type, categories=[\"SNV\", \"Indel\"], ordered=True\n",
    "        ),\n",
    "        gene_type=lambda x: pd.Categorical(\n",
    "            x.gene_type, categories=[\"snRNA\", \"Pseudogene\"], ordered=True\n",
    "        ),\n",
    "    )\n",
    "    .sort_values([\"allele_type\", \"gene_type\", \"variants_per_nt\"])\n",
    "    .check.head(5)\n",
    "    .check.info()\n",
    ")"
   ]
  },
  {
   "cell_type": "code",
   "execution_count": 3,
   "metadata": {},
   "outputs": [
    {
     "data": {
      "image/png": "[encoded data removed]",
      "text/plain": [
       "<Figure size 393.701x314.961 with 2 Axes>"
      ]
     },
     "metadata": {},
     "output_type": "display_data"
    }
   ],
   "source": [
    "plt.style.use(\"src/default.mpltstyle\")\n",
    "lw = 1.2\n",
    "\n",
    "fig, axs = plt.subplots(1, 2, figsize=(10 / 2.54, 8 / 2.54), constrained_layout=True)\n",
    "color_snrna = cmaps[\"Blues\"](0.7)\n",
    "color_pseudo = \"grey\"\n",
    "colors = [color_snrna, color_pseudo]\n",
    "dfg_variant_type = df.groupby(\"allele_type\", observed=True)\n",
    "ax_labels = [\"SNVs per nt\", \"Indels per nt\"]\n",
    "\n",
    "for ax, (variant_type, data), label in zip(axs, dfg_variant_type, ax_labels):\n",
    "    dfg_gene_type = data.groupby(\"gene_type\", observed=True)\n",
    "\n",
    "    for (i, (gene_type, d)), c in zip(enumerate(dfg_gene_type), colors):\n",
    "        d = d.copy()\n",
    "        n = len(d)\n",
    "        d[\"x\"] = i + np.random.uniform(-0.15, 0.15, n)\n",
    "        x = d[\"x\"]\n",
    "        y = d[\"variants_per_nt\"]\n",
    "        ax.boxplot(\n",
    "            y,\n",
    "            positions=[i],\n",
    "            widths=[0.5],\n",
    "            showfliers=False,\n",
    "            boxprops=dict(color=\"black\", lw=1.2),\n",
    "            medianprops=dict(color=\"black\", lw=1.2),\n",
    "            whiskerprops=dict(color=\"black\", lw=1.2),\n",
    "            capprops=dict(color=\"black\", lw=1.2),\n",
    "            tick_labels=[gene_type],\n",
    "            whis=[10, 90],\n",
    "            zorder=10,\n",
    "        )\n",
    "        scatter = ax.scatter(x, y, alpha=0.5, lw=0, color=c, s=25)\n",
    "\n",
    "        # # Annotate the three highest values in each group\n",
    "        # d3 = d.nlargest(3, \"variants_per_nt\")\n",
    "        # texts = []\n",
    "        # for _, row in d3.iterrows():\n",
    "        #     x = row[\"x\"]\n",
    "        #     y = row[\"variants_per_nt\"]\n",
    "        #     t = f'{row[\"symbol\"]}'\n",
    "        #     # text = ax.annotate(\n",
    "        #     #     t,\n",
    "        #     #     xy=(x, y),\n",
    "        #     #     xytext=(1, 1),\n",
    "        #     #     textcoords=\"offset points\",\n",
    "        #     #     # ha=\"left\",\n",
    "        #     #     # va=\"top\",\n",
    "        #     #     # ma=\"center\",\n",
    "        #     #     color=c,\n",
    "        #     # )\n",
    "        #     text = ax.text(x, y, t, color=c, ha=\"center\", va=\"center\")\n",
    "        #     texts.append(text)\n",
    "\n",
    "        # adjust_text(\n",
    "        #     texts,\n",
    "        #     ax=ax,\n",
    "        #     objects=scatter,\n",
    "        #     # only_move=dict(\n",
    "        #         # text=\"x+y\",\n",
    "        #         # explode=\"x+\",\n",
    "        #     # ),\n",
    "        #     # prevent_crossings=False,\n",
    "        #     arrowprops=dict(arrowstyle=\"-\", color=c, lw=0.5),\n",
    "        #     # force_explode=(0.8, 0.8),\n",
    "        #     # force_text=(0.5,0.5),\n",
    "        #     # ensure_inside_axes=False,\n",
    "        # )\n",
    "\n",
    "    # Customize axes\n",
    "    ax.set_ylabel(label)\n",
    "\n",
    "    # Add significance labels\n",
    "    _, y_max = ax.get_ylim()\n",
    "    x0, x1 = 0, 1\n",
    "    ax.plot([x0, x1], [y_max, y_max], color=\"black\")\n",
    "\n",
    "    snrna_density = data.loc[lambda x: x[\"gene_type\"] == \"snRNA\", \"variants_per_nt\"]\n",
    "    pseudo_density = data.loc[\n",
    "        lambda x: x[\"gene_type\"] == \"Pseudogene\", \"variants_per_nt\"\n",
    "    ]\n",
    "\n",
    "    p = mwu(snrna_density, pseudo_density, alternative=\"two-sided\").pvalue\n",
    "    p_label = f\"P={p:.3n}\"\n",
    "    ax.annotate(\n",
    "        p_label,\n",
    "        xy=((x0 + x1) / 2, y_max),\n",
    "        xytext=(0, 2),\n",
    "        textcoords=\"offset points\",\n",
    "        ha=\"center\",\n",
    "        va=\"bottom\",\n",
    "    )\n",
    "\n",
    "# Save figure\n",
    "plt.savefig(PNG, dpi=600)\n",
    "plt.savefig(SVG)\n"
   ]
  },
  {
   "cell_type": "markdown",
   "metadata": {},
   "source": [
    "RNU6 / U6 genes - interpret with caution. Low complexity regions.\n",
    "RNU2-2P no longer a pseudogene."
   ]
  }
 ],
 "metadata": {
  "kernelspec": {
   "display_name": "crdg_test",
   "language": "python",
   "name": "python3"
  },
  "language_info": {
   "codemirror_mode": {
    "name": "ipython",
    "version": 3
   },
   "file_extension": ".py",
   "mimetype": "text/x-python",
   "name": "python",
   "nbconvert_exporter": "python",
   "pygments_lexer": "ipython3",
   "version": "3.12.11"
  }
 },
 "nbformat": 4,
 "nbformat_minor": 2
}
