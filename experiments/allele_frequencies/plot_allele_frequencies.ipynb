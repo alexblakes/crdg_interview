{
 "cells": [
  {
   "cell_type": "code",
   "execution_count": 1,
   "metadata": {},
   "outputs": [],
   "source": [
    "import matplotlib.pyplot as plt\n",
    "from matplotlib import lines as mlines\n",
    "import numpy as np\n",
    "import pandas as pd\n",
    "from scipy import stats\n",
    "from statsmodels.stats import proportion\n",
    "\n",
    "import src\n",
    "from src import pandas_utils as pdu\n",
    "from src import vis\n",
    "from src import _constants as C\n",
    "\n",
    "FILE_SNVS = \"data/final/gnomad_snrna_variants_hwe_stats_snvs.tsv\"\n",
    "FILE_PS = \"data/stats/snv_proportion_singletons_by_gene_type.tsv\"\n",
    "FILE_EXCESS_HETS=\"data/final/oe_outliers_bonferroni_significant.tsv\"\n",
    "PNG = \"data/plots/snrna_allele_frequency.png\"\n",
    "SVG = \"data/plots/snrna_allele_frequency.svg\""
   ]
  },
  {
   "cell_type": "code",
   "execution_count": 2,
   "metadata": {},
   "outputs": [
    {
     "data": {
      "text/markdown": [
       "<h5 style='text-align: left'><span style='color:None; background-color:None'>First 3 rows</span></h5>"
      ],
      "text/plain": [
       "<IPython.core.display.Markdown object>"
      ]
     },
     "metadata": {},
     "output_type": "display_data"
    },
    {
     "data": {
      "text/html": [
       "<div style=\"margin-left: 30px;\"><style type=\"text/css\">\n",
       "#T_828a5 tr:hover {\n",
       "  background-color: #2986cc;\n",
       "}\n",
       "</style>\n",
       "<table id=\"T_828a5\">\n",
       "  <thead>\n",
       "    <tr>\n",
       "      <th class=\"blank level0\" >&nbsp;</th>\n",
       "      <th id=\"T_828a5_level0_col0\" class=\"col_heading level0 col0\" >ac</th>\n",
       "      <th id=\"T_828a5_level0_col1\" class=\"col_heading level0 col1\" >af</th>\n",
       "      <th id=\"T_828a5_level0_col2\" class=\"col_heading level0 col2\" >gene_type</th>\n",
       "    </tr>\n",
       "  </thead>\n",
       "  <tbody>\n",
       "    <tr>\n",
       "      <th id=\"T_828a5_level0_row0\" class=\"row_heading level0 row0\" >0</th>\n",
       "      <td id=\"T_828a5_row0_col0\" class=\"data row0 col0\" >74963</td>\n",
       "      <td id=\"T_828a5_row0_col1\" class=\"data row0 col1\" >0.500</td>\n",
       "      <td id=\"T_828a5_row0_col2\" class=\"data row0 col2\" >snRNA</td>\n",
       "    </tr>\n",
       "    <tr>\n",
       "      <th id=\"T_828a5_level0_row1\" class=\"row_heading level0 row1\" >1</th>\n",
       "      <td id=\"T_828a5_row1_col0\" class=\"data row1 col0\" >33678</td>\n",
       "      <td id=\"T_828a5_row1_col1\" class=\"data row1 col1\" >0.409</td>\n",
       "      <td id=\"T_828a5_row1_col2\" class=\"data row1 col2\" >snRNA</td>\n",
       "    </tr>\n",
       "    <tr>\n",
       "      <th id=\"T_828a5_level0_row2\" class=\"row_heading level0 row2\" >2</th>\n",
       "      <td id=\"T_828a5_row2_col0\" class=\"data row2 col0\" >29963</td>\n",
       "      <td id=\"T_828a5_row2_col1\" class=\"data row2 col1\" >0.329</td>\n",
       "      <td id=\"T_828a5_row2_col2\" class=\"data row2 col2\" >Pseudogene</td>\n",
       "    </tr>\n",
       "  </tbody>\n",
       "</table>\n",
       "</div>"
      ],
      "text/plain": [
       "<IPython.core.display.HTML object>"
      ]
     },
     "metadata": {},
     "output_type": "display_data"
    }
   ],
   "source": [
    "df_snvs = pd.read_csv(FILE_SNVS, sep=\"\\t\").check.head(3)"
   ]
  },
  {
   "cell_type": "code",
   "execution_count": 3,
   "metadata": {},
   "outputs": [
    {
     "data": {
      "text/markdown": [
       "<h5 style='text-align: left'><span style='color:None; background-color:None'>First 5 rows</span></h5>"
      ],
      "text/plain": [
       "<IPython.core.display.Markdown object>"
      ]
     },
     "metadata": {},
     "output_type": "display_data"
    },
    {
     "data": {
      "text/html": [
       "<div style=\"margin-left: 30px;\"><style type=\"text/css\">\n",
       "#T_0561e tr:hover {\n",
       "  background-color: #2986cc;\n",
       "}\n",
       "</style>\n",
       "<table id=\"T_0561e\">\n",
       "  <thead>\n",
       "    <tr>\n",
       "      <th class=\"blank level0\" >&nbsp;</th>\n",
       "      <th id=\"T_0561e_level0_col0\" class=\"col_heading level0 col0\" >gene_type</th>\n",
       "      <th id=\"T_0561e_level0_col1\" class=\"col_heading level0 col1\" >n_singletons</th>\n",
       "      <th id=\"T_0561e_level0_col2\" class=\"col_heading level0 col2\" >n_variants</th>\n",
       "      <th id=\"T_0561e_level0_col3\" class=\"col_heading level0 col3\" >proportion_singletons</th>\n",
       "      <th id=\"T_0561e_level0_col4\" class=\"col_heading level0 col4\" >ci_lo</th>\n",
       "      <th id=\"T_0561e_level0_col5\" class=\"col_heading level0 col5\" >ci_hi</th>\n",
       "      <th id=\"T_0561e_level0_col6\" class=\"col_heading level0 col6\" >err_lo</th>\n",
       "      <th id=\"T_0561e_level0_col7\" class=\"col_heading level0 col7\" >err_hi</th>\n",
       "    </tr>\n",
       "  </thead>\n",
       "  <tbody>\n",
       "    <tr>\n",
       "      <th id=\"T_0561e_level0_row0\" class=\"row_heading level0 row0\" >0</th>\n",
       "      <td id=\"T_0561e_row0_col0\" class=\"data row0 col0\" >Pseudogene</td>\n",
       "      <td id=\"T_0561e_row0_col1\" class=\"data row0 col1\" >13847</td>\n",
       "      <td id=\"T_0561e_row0_col2\" class=\"data row0 col2\" >26482</td>\n",
       "      <td id=\"T_0561e_row0_col3\" class=\"data row0 col3\" >0.523</td>\n",
       "      <td id=\"T_0561e_row0_col4\" class=\"data row0 col4\" >0.517</td>\n",
       "      <td id=\"T_0561e_row0_col5\" class=\"data row0 col5\" >0.529</td>\n",
       "      <td id=\"T_0561e_row0_col6\" class=\"data row0 col6\" >0.006</td>\n",
       "      <td id=\"T_0561e_row0_col7\" class=\"data row0 col7\" >0.006</td>\n",
       "    </tr>\n",
       "    <tr>\n",
       "      <th id=\"T_0561e_level0_row1\" class=\"row_heading level0 row1\" >1</th>\n",
       "      <td id=\"T_0561e_row1_col0\" class=\"data row1 col0\" >snRNA</td>\n",
       "      <td id=\"T_0561e_row1_col1\" class=\"data row1 col1\" >868</td>\n",
       "      <td id=\"T_0561e_row1_col2\" class=\"data row1 col2\" >2162</td>\n",
       "      <td id=\"T_0561e_row1_col3\" class=\"data row1 col3\" >0.401</td>\n",
       "      <td id=\"T_0561e_row1_col4\" class=\"data row1 col4\" >0.381</td>\n",
       "      <td id=\"T_0561e_row1_col5\" class=\"data row1 col5\" >0.422</td>\n",
       "      <td id=\"T_0561e_row1_col6\" class=\"data row1 col6\" >0.021</td>\n",
       "      <td id=\"T_0561e_row1_col7\" class=\"data row1 col7\" >0.021</td>\n",
       "    </tr>\n",
       "  </tbody>\n",
       "</table>\n",
       "</div>"
      ],
      "text/plain": [
       "<IPython.core.display.HTML object>"
      ]
     },
     "metadata": {},
     "output_type": "display_data"
    }
   ],
   "source": [
    "df_ps = pd.read_csv(FILE_PS, sep=\"\\t\").check.head()"
   ]
  },
  {
   "cell_type": "code",
   "execution_count": 4,
   "metadata": {},
   "outputs": [],
   "source": [
    "df_xs_het = pd.read_csv(FILE_EXCESS_HETS, sep=\"\\t\")"
   ]
  },
  {
   "cell_type": "code",
   "execution_count": 16,
   "metadata": {},
   "outputs": [
    {
     "name": "stdout",
     "output_type": "stream",
     "text": [
      "KS statistics: P=2.02e-51 D=0.171\n",
      "Two-sided Z test of proportions: P=1.8e-27\n"
     ]
    },
    {
     "data": {
      "image/png": "[encoded data removed]",
      "text/plain": [
       "<Figure size 590.551x255.906 with 3 Axes>"
      ]
     },
     "metadata": {},
     "output_type": "display_data"
    }
   ],
   "source": [
    "plt.style.use(\"src/default.mpltstyle\")\n",
    "\n",
    "fig, axs = plt.subplots(\n",
    "    1,\n",
    "    3,\n",
    "    figsize=(15 / 2.54, 6.5 / 2.54),\n",
    "    width_ratios=[7, 3, 7],\n",
    "    layout=\"constrained\",\n",
    "    gridspec_kw=dict(wspace=0.1),\n",
    ")\n",
    "\n",
    "# Plot cumulative frequency distribution\n",
    "dfg = df_snvs.groupby(\"gene_type\")\n",
    "colors = [C.COLOR_PSEUDO, C.COLOR_SNRNA]\n",
    "\n",
    "for (label, data), color in zip(dfg, colors):\n",
    "    x = data[\"af\"]\n",
    "    axs[0].ecdf(x, color=color, label=label)\n",
    "\n",
    "axs[0].set_xscale(\"log\")\n",
    "axs[0].legend(loc=\"best\", bbox_to_anchor=(0.5, 0.5, 0.5, 0.4))\n",
    "axs[0].set_ylabel(\"Cumulative proportion\")\n",
    "axs[0].set_xlabel(\"Allele frequency\")\n",
    "\n",
    "# Add statistics\n",
    "af_pseudo, af_snrna = [data[\"af\"] for _, data in dfg]\n",
    "\n",
    "ks_res = stats.kstest(af_pseudo, af_snrna)\n",
    "ks_p = ks_res.pvalue\n",
    "ks_d = ks_res.statistic\n",
    "print(f\"KS statistics: P={ks_p:.3n}\", f\"D={ks_d:.3n}\")\n",
    "\n",
    "p_cutoff = 10**-16\n",
    "p_label = f\"P<{p_cutoff}\"\n",
    "\n",
    "axs[0].annotate(\n",
    "    p_label,\n",
    "    xy=(0.85, 0.65),\n",
    "    xycoords=\"axes fraction\",\n",
    "    va=\"bottom\",\n",
    "    ha=\"right\",\n",
    ")\n",
    "\n",
    "# Plot proportion of singletons\n",
    "for (group, row), color in zip(df_ps.iterrows(), colors):\n",
    "    axs[1].errorbar(\n",
    "        x=row[\"gene_type\"],\n",
    "        y=row[\"proportion_singletons\"],\n",
    "        yerr=[[row[\"err_lo\"]], [row[\"err_hi\"]]],\n",
    "        color=color,\n",
    "        marker=\"o\",\n",
    "    )\n",
    "\n",
    "# Add statistics\n",
    "_, z_pval = proportion.proportions_ztest(df_ps[\"n_singletons\"], df_ps[\"n_variants\"])\n",
    "\n",
    "print(f\"Two-sided Z test of proportions: P={z_pval:.3n}\")\n",
    "\n",
    "z_pval_clipped = max(z_pval, 1e-16)\n",
    "vis.annotate_stats_horizontal_line(f\"P<{z_pval_clipped}\", 0, 1, y=0.55, ax=axs[1])\n",
    "\n",
    "# Tidy axes\n",
    "axs[1].set_ylabel(\"Proportion of SNVs with AC=1\")\n",
    "axs[1].set_xlim(-0.5, 1.5)\n",
    "axs[1].set_xticks(\n",
    "    axs[1].get_xticks(),\n",
    "    labels=axs[1].get_xticklabels(),\n",
    "    rotation=45,\n",
    "    ha=\"right\",\n",
    "    rotation_mode=\"anchor\",\n",
    ")\n",
    "axs[1].autoscale(axis=\"y\")\n",
    "axs[1].set_ylim(bottom=0)\n",
    "\n",
    "# Plot excess hets\n",
    "df_het_g = df_xs_het.groupby(\"gene_type\")\n",
    "colors = [C.COLOR_PSEUDO, C.COLOR_SNRNA]\n",
    "alphas = [0.3, 1]\n",
    "for (gene_type, data), color, alpha in zip(df_het_g, colors, alphas):\n",
    "    x = data[\"rank\"]\n",
    "    y = data[\"oe\"]\n",
    "    axs[2].scatter(x, y, label=gene_type, color=color, alpha=alpha, lw=0)\n",
    "\n",
    "# Inbreeding coefficient filter cutoff\n",
    "axs[2].axhline(1.3, color=\"grey\", lw=0.5, ls=\"--\", alpha=1, zorder=-1)\n",
    "axs[2].annotate(\n",
    "    \"VCF filter cutoff (1.3)\",\n",
    "    xy=(210, 1.3),\n",
    "    xycoords=\"data\",\n",
    "    xytext=(0, 2),\n",
    "    textcoords=\"offset points\",\n",
    "    color=\"grey\",\n",
    "    ha=\"right\",\n",
    "    va=\"bottom\",\n",
    ")\n",
    "\n",
    "axs[2].set_xticks([f(df_xs_het[\"rank\"]) for f in [min, max]])\n",
    "axs[2].set_ylabel(\"Observed/expected\\nheterozygous genotypes\")\n",
    "axs[2].set_xlabel(\"Rank\")\n",
    "\n",
    "# Add legend\n",
    "marker_pseudo = mlines.Line2D(\n",
    "    [], [], color=C.COLOR_PSEUDO, marker=\"o\", linestyle=\"None\", label=\"Pseudogene\"\n",
    ")\n",
    "marker_snrna = mlines.Line2D(\n",
    "    [], [], color=C.COLOR_SNRNA, marker=\"o\", linestyle=\"None\", label=\"snRNA\"\n",
    ")\n",
    "\n",
    "axs[2].legend(handles=[marker_pseudo, marker_snrna], loc=\"upper right\")\n",
    "\n",
    "# Add panel labels\n",
    "for ax, label in zip(axs, \"ABC\"):\n",
    "    vis.panel_label(ax, label, fontsize=11)\n",
    "\n",
    "# Save figure\n",
    "plt.savefig(PNG, dpi=600)\n",
    "plt.savefig(SVG)"
   ]
  }
 ],
 "metadata": {
  "kernelspec": {
   "display_name": "crdg_test",
   "language": "python",
   "name": "python3"
  },
  "language_info": {
   "codemirror_mode": {
    "name": "ipython",
    "version": 3
   },
   "file_extension": ".py",
   "mimetype": "text/x-python",
   "name": "python",
   "nbconvert_exporter": "python",
   "pygments_lexer": "ipython3",
   "version": "3.12.11"
  }
 },
 "nbformat": 4,
 "nbformat_minor": 2
}
