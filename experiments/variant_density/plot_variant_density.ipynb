{
 "cells": [
  {
   "cell_type": "code",
   "execution_count": 1,
   "metadata": {},
   "outputs": [],
   "source": [
    "from adjustText import adjust_text\n",
    "import matplotlib.pyplot as plt\n",
    "from matplotlib.pyplot import colormaps as cmaps\n",
    "import numpy as np\n",
    "import pandas as pd\n",
    "from scipy.stats import mannwhitneyu as mwu\n",
    "\n",
    "import src\n",
    "from src import vis\n",
    "\n",
    "FILE_IN = \"data/final/snrna_variant_counts.tsv\"\n",
    "PNG = \"data/plots/snrna_variant_density.png\"\n",
    "SVG = \"data/plots/snrna_variant_density.svg\""
   ]
  },
  {
   "cell_type": "code",
   "execution_count": 2,
   "metadata": {},
   "outputs": [],
   "source": [
    "df_density = (\n",
    "    pd.read_csv(\n",
    "        FILE_IN,\n",
    "        sep=\"\\t\",\n",
    "        usecols=[\"symbol\", \"allele_type\", \"gene_type\", \"variants_per_nt\"],\n",
    "    )\n",
    "    .assign(\n",
    "        allele_type=lambda x: pd.Categorical(\n",
    "            x.allele_type, categories=[\"SNV\", \"Indel\"], ordered=True\n",
    "        ),\n",
    "        gene_type=lambda x: pd.Categorical(\n",
    "            x.gene_type, categories=[\"snRNA\", \"Pseudogene\"], ordered=True\n",
    "        ),\n",
    "    )\n",
    "    .sort_values([\"allele_type\", \"gene_type\", \"variants_per_nt\"])\n",
    ")"
   ]
  },
  {
   "cell_type": "code",
   "execution_count": 3,
   "metadata": {},
   "outputs": [
    {
     "name": "stderr",
     "output_type": "stream",
     "text": [
      "/tmp/ipykernel_844169/2059760522.py:2: FutureWarning: The default of observed=False is deprecated and will be changed to True in a future version of pandas. Pass observed=False to retain current behavior or observed=True to adopt the future default and silence this warning.\n",
      "  for group, data in df_density.groupby([\"allele_type\", \"gene_type\"], sort=False):\n"
     ]
    },
    {
     "data": {
      "text/markdown": [
       "<h5 style='text-align: left'><span style='color:None; background-color:None'>Greatest variant density ('SNV', 'snRNA'):</span></h5>"
      ],
      "text/plain": [
       "<IPython.core.display.Markdown object>"
      ]
     },
     "metadata": {},
     "output_type": "display_data"
    },
    {
     "data": {
      "text/html": [
       "<div style=\"margin-left: 30px;\"><style type=\"text/css\">\n",
       "#T_28b35 tr:hover {\n",
       "  background-color: #2986cc;\n",
       "}\n",
       "</style>\n",
       "<table id=\"T_28b35\">\n",
       "  <thead>\n",
       "    <tr>\n",
       "      <th class=\"blank level0\" >&nbsp;</th>\n",
       "      <th id=\"T_28b35_level0_col0\" class=\"col_heading level0 col0\" >allele_type</th>\n",
       "      <th id=\"T_28b35_level0_col1\" class=\"col_heading level0 col1\" >symbol</th>\n",
       "      <th id=\"T_28b35_level0_col2\" class=\"col_heading level0 col2\" >gene_type</th>\n",
       "      <th id=\"T_28b35_level0_col3\" class=\"col_heading level0 col3\" >variants_per_nt</th>\n",
       "    </tr>\n",
       "  </thead>\n",
       "  <tbody>\n",
       "    <tr>\n",
       "      <th id=\"T_28b35_level0_row0\" class=\"row_heading level0 row0\" >43</th>\n",
       "      <td id=\"T_28b35_row0_col0\" class=\"data row0 col0\" >SNV</td>\n",
       "      <td id=\"T_28b35_row0_col1\" class=\"data row0 col1\" >RNU5E-1</td>\n",
       "      <td id=\"T_28b35_row0_col2\" class=\"data row0 col2\" >snRNA</td>\n",
       "      <td id=\"T_28b35_row0_col3\" class=\"data row0 col3\" >2.231</td>\n",
       "    </tr>\n",
       "    <tr>\n",
       "      <th id=\"T_28b35_level0_row1\" class=\"row_heading level0 row1\" >256</th>\n",
       "      <td id=\"T_28b35_row1_col0\" class=\"data row1 col0\" >SNV</td>\n",
       "      <td id=\"T_28b35_row1_col1\" class=\"data row1 col1\" >RNU5D-1</td>\n",
       "      <td id=\"T_28b35_row1_col2\" class=\"data row1 col2\" >snRNA</td>\n",
       "      <td id=\"T_28b35_row1_col3\" class=\"data row1 col3\" >2.225</td>\n",
       "    </tr>\n",
       "    <tr>\n",
       "      <th id=\"T_28b35_level0_row2\" class=\"row_heading level0 row2\" >2218</th>\n",
       "      <td id=\"T_28b35_row2_col0\" class=\"data row2 col0\" >SNV</td>\n",
       "      <td id=\"T_28b35_row2_col1\" class=\"data row2 col1\" >RNU7-1</td>\n",
       "      <td id=\"T_28b35_row2_col2\" class=\"data row2 col2\" >snRNA</td>\n",
       "      <td id=\"T_28b35_row2_col3\" class=\"data row2 col3\" >2.032</td>\n",
       "    </tr>\n",
       "  </tbody>\n",
       "</table>\n",
       "</div>"
      ],
      "text/plain": [
       "<IPython.core.display.HTML object>"
      ]
     },
     "metadata": {},
     "output_type": "display_data"
    },
    {
     "data": {
      "text/markdown": [
       "<h5 style='text-align: left'><span style='color:None; background-color:None'>Greatest variant density ('SNV', 'Pseudogene'):</span></h5>"
      ],
      "text/plain": [
       "<IPython.core.display.Markdown object>"
      ]
     },
     "metadata": {},
     "output_type": "display_data"
    },
    {
     "data": {
      "text/html": [
       "<div style=\"margin-left: 30px;\"><style type=\"text/css\">\n",
       "#T_aebae tr:hover {\n",
       "  background-color: #2986cc;\n",
       "}\n",
       "</style>\n",
       "<table id=\"T_aebae\">\n",
       "  <thead>\n",
       "    <tr>\n",
       "      <th class=\"blank level0\" >&nbsp;</th>\n",
       "      <th id=\"T_aebae_level0_col0\" class=\"col_heading level0 col0\" >allele_type</th>\n",
       "      <th id=\"T_aebae_level0_col1\" class=\"col_heading level0 col1\" >symbol</th>\n",
       "      <th id=\"T_aebae_level0_col2\" class=\"col_heading level0 col2\" >gene_type</th>\n",
       "      <th id=\"T_aebae_level0_col3\" class=\"col_heading level0 col3\" >variants_per_nt</th>\n",
       "    </tr>\n",
       "  </thead>\n",
       "  <tbody>\n",
       "    <tr>\n",
       "      <th id=\"T_aebae_level0_row0\" class=\"row_heading level0 row0\" >857</th>\n",
       "      <td id=\"T_aebae_row0_col0\" class=\"data row0 col0\" >SNV</td>\n",
       "      <td id=\"T_aebae_row0_col1\" class=\"data row0 col1\" >RNU5E-6P</td>\n",
       "      <td id=\"T_aebae_row0_col2\" class=\"data row0 col2\" >Pseudogene</td>\n",
       "      <td id=\"T_aebae_row0_col3\" class=\"data row0 col3\" >1.861</td>\n",
       "    </tr>\n",
       "    <tr>\n",
       "      <th id=\"T_aebae_level0_row1\" class=\"row_heading level0 row1\" >1827</th>\n",
       "      <td id=\"T_aebae_row1_col0\" class=\"data row1 col0\" >SNV</td>\n",
       "      <td id=\"T_aebae_row1_col1\" class=\"data row1 col1\" >RNU2-2P</td>\n",
       "      <td id=\"T_aebae_row1_col2\" class=\"data row1 col2\" >Pseudogene</td>\n",
       "      <td id=\"T_aebae_row1_col3\" class=\"data row1 col3\" >1.843</td>\n",
       "    </tr>\n",
       "    <tr>\n",
       "      <th id=\"T_aebae_level0_row2\" class=\"row_heading level0 row2\" >480</th>\n",
       "      <td id=\"T_aebae_row2_col0\" class=\"data row2 col0\" >SNV</td>\n",
       "      <td id=\"T_aebae_row2_col1\" class=\"data row2 col1\" >RNU5A-8P</td>\n",
       "      <td id=\"T_aebae_row2_col2\" class=\"data row2 col2\" >Pseudogene</td>\n",
       "      <td id=\"T_aebae_row2_col3\" class=\"data row2 col3\" >1.684</td>\n",
       "    </tr>\n",
       "  </tbody>\n",
       "</table>\n",
       "</div>"
      ],
      "text/plain": [
       "<IPython.core.display.HTML object>"
      ]
     },
     "metadata": {},
     "output_type": "display_data"
    },
    {
     "data": {
      "text/markdown": [
       "<h5 style='text-align: left'><span style='color:None; background-color:None'>Greatest variant density ('Indel', 'snRNA'):</span></h5>"
      ],
      "text/plain": [
       "<IPython.core.display.Markdown object>"
      ]
     },
     "metadata": {},
     "output_type": "display_data"
    },
    {
     "data": {
      "text/html": [
       "<div style=\"margin-left: 30px;\"><style type=\"text/css\">\n",
       "#T_1431a tr:hover {\n",
       "  background-color: #2986cc;\n",
       "}\n",
       "</style>\n",
       "<table id=\"T_1431a\">\n",
       "  <thead>\n",
       "    <tr>\n",
       "      <th class=\"blank level0\" >&nbsp;</th>\n",
       "      <th id=\"T_1431a_level0_col0\" class=\"col_heading level0 col0\" >allele_type</th>\n",
       "      <th id=\"T_1431a_level0_col1\" class=\"col_heading level0 col1\" >symbol</th>\n",
       "      <th id=\"T_1431a_level0_col2\" class=\"col_heading level0 col2\" >gene_type</th>\n",
       "      <th id=\"T_1431a_level0_col3\" class=\"col_heading level0 col3\" >variants_per_nt</th>\n",
       "    </tr>\n",
       "  </thead>\n",
       "  <tbody>\n",
       "    <tr>\n",
       "      <th id=\"T_1431a_level0_row0\" class=\"row_heading level0 row0\" >2217</th>\n",
       "      <td id=\"T_1431a_row0_col0\" class=\"data row0 col0\" >Indel</td>\n",
       "      <td id=\"T_1431a_row0_col1\" class=\"data row0 col1\" >RNU7-1</td>\n",
       "      <td id=\"T_1431a_row0_col2\" class=\"data row0 col2\" >snRNA</td>\n",
       "      <td id=\"T_1431a_row0_col3\" class=\"data row0 col3\" >0.508</td>\n",
       "    </tr>\n",
       "    <tr>\n",
       "      <th id=\"T_1431a_level0_row1\" class=\"row_heading level0 row1\" >42</th>\n",
       "      <td id=\"T_1431a_row1_col0\" class=\"data row1 col0\" >Indel</td>\n",
       "      <td id=\"T_1431a_row1_col1\" class=\"data row1 col1\" >RNU5E-1</td>\n",
       "      <td id=\"T_1431a_row1_col2\" class=\"data row1 col2\" >snRNA</td>\n",
       "      <td id=\"T_1431a_row1_col3\" class=\"data row1 col3\" >0.463</td>\n",
       "    </tr>\n",
       "    <tr>\n",
       "      <th id=\"T_1431a_level0_row2\" class=\"row_heading level0 row2\" >1503</th>\n",
       "      <td id=\"T_1431a_row2_col0\" class=\"data row2 col0\" >Indel</td>\n",
       "      <td id=\"T_1431a_row2_col1\" class=\"data row2 col1\" >RNU6-9</td>\n",
       "      <td id=\"T_1431a_row2_col2\" class=\"data row2 col2\" >snRNA</td>\n",
       "      <td id=\"T_1431a_row2_col3\" class=\"data row2 col3\" >0.439</td>\n",
       "    </tr>\n",
       "  </tbody>\n",
       "</table>\n",
       "</div>"
      ],
      "text/plain": [
       "<IPython.core.display.HTML object>"
      ]
     },
     "metadata": {},
     "output_type": "display_data"
    },
    {
     "data": {
      "text/markdown": [
       "<h5 style='text-align: left'><span style='color:None; background-color:None'>Greatest variant density ('Indel', 'Pseudogene'):</span></h5>"
      ],
      "text/plain": [
       "<IPython.core.display.Markdown object>"
      ]
     },
     "metadata": {},
     "output_type": "display_data"
    },
    {
     "data": {
      "text/html": [
       "<div style=\"margin-left: 30px;\"><style type=\"text/css\">\n",
       "#T_81921 tr:hover {\n",
       "  background-color: #2986cc;\n",
       "}\n",
       "</style>\n",
       "<table id=\"T_81921\">\n",
       "  <thead>\n",
       "    <tr>\n",
       "      <th class=\"blank level0\" >&nbsp;</th>\n",
       "      <th id=\"T_81921_level0_col0\" class=\"col_heading level0 col0\" >allele_type</th>\n",
       "      <th id=\"T_81921_level0_col1\" class=\"col_heading level0 col1\" >symbol</th>\n",
       "      <th id=\"T_81921_level0_col2\" class=\"col_heading level0 col2\" >gene_type</th>\n",
       "      <th id=\"T_81921_level0_col3\" class=\"col_heading level0 col3\" >variants_per_nt</th>\n",
       "    </tr>\n",
       "  </thead>\n",
       "  <tbody>\n",
       "    <tr>\n",
       "      <th id=\"T_81921_level0_row0\" class=\"row_heading level0 row0\" >2529</th>\n",
       "      <td id=\"T_81921_row0_col0\" class=\"data row0 col0\" >Indel</td>\n",
       "      <td id=\"T_81921_row0_col1\" class=\"data row0 col1\" >RNU6-758P</td>\n",
       "      <td id=\"T_81921_row0_col2\" class=\"data row0 col2\" >Pseudogene</td>\n",
       "      <td id=\"T_81921_row0_col3\" class=\"data row0 col3\" >0.551</td>\n",
       "    </tr>\n",
       "    <tr>\n",
       "      <th id=\"T_81921_level0_row1\" class=\"row_heading level0 row1\" >2105</th>\n",
       "      <td id=\"T_81921_row1_col0\" class=\"data row1 col0\" >Indel</td>\n",
       "      <td id=\"T_81921_row1_col1\" class=\"data row1 col1\" >RNU6-437P</td>\n",
       "      <td id=\"T_81921_row1_col2\" class=\"data row1 col2\" >Pseudogene</td>\n",
       "      <td id=\"T_81921_row1_col3\" class=\"data row1 col3\" >0.432</td>\n",
       "    </tr>\n",
       "    <tr>\n",
       "      <th id=\"T_81921_level0_row2\" class=\"row_heading level0 row2\" >2271</th>\n",
       "      <td id=\"T_81921_row2_col0\" class=\"data row2 col0\" >Indel</td>\n",
       "      <td id=\"T_81921_row2_col1\" class=\"data row2 col1\" >RNU6-1218P</td>\n",
       "      <td id=\"T_81921_row2_col2\" class=\"data row2 col2\" >Pseudogene</td>\n",
       "      <td id=\"T_81921_row2_col3\" class=\"data row2 col3\" >0.407</td>\n",
       "    </tr>\n",
       "  </tbody>\n",
       "</table>\n",
       "</div>"
      ],
      "text/plain": [
       "<IPython.core.display.HTML object>"
      ]
     },
     "metadata": {},
     "output_type": "display_data"
    }
   ],
   "source": [
    "# Top 5 genes for variant density\n",
    "for group, data in df_density.groupby([\"allele_type\", \"gene_type\"], sort=False):\n",
    "    data.check.function(\n",
    "        lambda x: x.nlargest(3, \"variants_per_nt\"),\n",
    "        check_name=f\"Greatest variant density {group}:\",\n",
    "    )"
   ]
  },
  {
   "cell_type": "code",
   "execution_count": 4,
   "metadata": {},
   "outputs": [
    {
     "name": "stderr",
     "output_type": "stream",
     "text": [
      "/tmp/ipykernel_844169/541201131.py:2: FutureWarning: The default of observed=False is deprecated and will be changed to True in a future version of pandas. Pass observed=False to retain current behavior or observed=True to adopt the future default and silence this warning.\n",
      "  for group, data in df_density.groupby([\"allele_type\", \"gene_type\"], sort=False):\n"
     ]
    },
    {
     "data": {
      "text/markdown": [
       "<h5 style='text-align: left'><span style='color:None; background-color:None'>('SNV', 'snRNA'):</span></h5>"
      ],
      "text/plain": [
       "<IPython.core.display.Markdown object>"
      ]
     },
     "metadata": {},
     "output_type": "display_data"
    },
    {
     "data": {
      "text/html": [
       "<div style=\"margin-left: 30px;\"><style type=\"text/css\">\n",
       "#T_aab11 tr:hover {\n",
       "  background-color: #2986cc;\n",
       "}\n",
       "</style>\n",
       "<table id=\"T_aab11\">\n",
       "  <thead>\n",
       "    <tr>\n",
       "      <th class=\"blank level0\" >&nbsp;</th>\n",
       "      <th id=\"T_aab11_level0_col0\" class=\"col_heading level0 col0\" >variants_per_nt</th>\n",
       "    </tr>\n",
       "  </thead>\n",
       "  <tbody>\n",
       "    <tr>\n",
       "      <th id=\"T_aab11_level0_row0\" class=\"row_heading level0 row0\" >mean</th>\n",
       "      <td id=\"T_aab11_row0_col0\" class=\"data row0 col0\" >0.596</td>\n",
       "    </tr>\n",
       "    <tr>\n",
       "      <th id=\"T_aab11_level0_row1\" class=\"row_heading level0 row1\" >median</th>\n",
       "      <td id=\"T_aab11_row1_col0\" class=\"data row1 col0\" >0.314</td>\n",
       "    </tr>\n",
       "  </tbody>\n",
       "</table>\n",
       "</div>"
      ],
      "text/plain": [
       "<IPython.core.display.HTML object>"
      ]
     },
     "metadata": {},
     "output_type": "display_data"
    },
    {
     "data": {
      "text/markdown": [
       "<h5 style='text-align: left'><span style='color:None; background-color:None'>('SNV', 'Pseudogene'):</span></h5>"
      ],
      "text/plain": [
       "<IPython.core.display.Markdown object>"
      ]
     },
     "metadata": {},
     "output_type": "display_data"
    },
    {
     "data": {
      "text/html": [
       "<div style=\"margin-left: 30px;\"><style type=\"text/css\">\n",
       "#T_43dee tr:hover {\n",
       "  background-color: #2986cc;\n",
       "}\n",
       "</style>\n",
       "<table id=\"T_43dee\">\n",
       "  <thead>\n",
       "    <tr>\n",
       "      <th class=\"blank level0\" >&nbsp;</th>\n",
       "      <th id=\"T_43dee_level0_col0\" class=\"col_heading level0 col0\" >variants_per_nt</th>\n",
       "    </tr>\n",
       "  </thead>\n",
       "  <tbody>\n",
       "    <tr>\n",
       "      <th id=\"T_43dee_level0_row0\" class=\"row_heading level0 row0\" >mean</th>\n",
       "      <td id=\"T_43dee_row0_col0\" class=\"data row0 col0\" >0.211</td>\n",
       "    </tr>\n",
       "    <tr>\n",
       "      <th id=\"T_43dee_level0_row1\" class=\"row_heading level0 row1\" >median</th>\n",
       "      <td id=\"T_43dee_row1_col0\" class=\"data row1 col0\" >0.206</td>\n",
       "    </tr>\n",
       "  </tbody>\n",
       "</table>\n",
       "</div>"
      ],
      "text/plain": [
       "<IPython.core.display.HTML object>"
      ]
     },
     "metadata": {},
     "output_type": "display_data"
    },
    {
     "data": {
      "text/markdown": [
       "<h5 style='text-align: left'><span style='color:None; background-color:None'>('Indel', 'snRNA'):</span></h5>"
      ],
      "text/plain": [
       "<IPython.core.display.Markdown object>"
      ]
     },
     "metadata": {},
     "output_type": "display_data"
    },
    {
     "data": {
      "text/html": [
       "<div style=\"margin-left: 30px;\"><style type=\"text/css\">\n",
       "#T_cdbd9 tr:hover {\n",
       "  background-color: #2986cc;\n",
       "}\n",
       "</style>\n",
       "<table id=\"T_cdbd9\">\n",
       "  <thead>\n",
       "    <tr>\n",
       "      <th class=\"blank level0\" >&nbsp;</th>\n",
       "      <th id=\"T_cdbd9_level0_col0\" class=\"col_heading level0 col0\" >variants_per_nt</th>\n",
       "    </tr>\n",
       "  </thead>\n",
       "  <tbody>\n",
       "    <tr>\n",
       "      <th id=\"T_cdbd9_level0_row0\" class=\"row_heading level0 row0\" >mean</th>\n",
       "      <td id=\"T_cdbd9_row0_col0\" class=\"data row0 col0\" >0.088</td>\n",
       "    </tr>\n",
       "    <tr>\n",
       "      <th id=\"T_cdbd9_level0_row1\" class=\"row_heading level0 row1\" >median</th>\n",
       "      <td id=\"T_cdbd9_row1_col0\" class=\"data row1 col0\" >0.037</td>\n",
       "    </tr>\n",
       "  </tbody>\n",
       "</table>\n",
       "</div>"
      ],
      "text/plain": [
       "<IPython.core.display.HTML object>"
      ]
     },
     "metadata": {},
     "output_type": "display_data"
    },
    {
     "data": {
      "text/markdown": [
       "<h5 style='text-align: left'><span style='color:None; background-color:None'>('Indel', 'Pseudogene'):</span></h5>"
      ],
      "text/plain": [
       "<IPython.core.display.Markdown object>"
      ]
     },
     "metadata": {},
     "output_type": "display_data"
    },
    {
     "data": {
      "text/html": [
       "<div style=\"margin-left: 30px;\"><style type=\"text/css\">\n",
       "#T_8fc00 tr:hover {\n",
       "  background-color: #2986cc;\n",
       "}\n",
       "</style>\n",
       "<table id=\"T_8fc00\">\n",
       "  <thead>\n",
       "    <tr>\n",
       "      <th class=\"blank level0\" >&nbsp;</th>\n",
       "      <th id=\"T_8fc00_level0_col0\" class=\"col_heading level0 col0\" >variants_per_nt</th>\n",
       "    </tr>\n",
       "  </thead>\n",
       "  <tbody>\n",
       "    <tr>\n",
       "      <th id=\"T_8fc00_level0_row0\" class=\"row_heading level0 row0\" >mean</th>\n",
       "      <td id=\"T_8fc00_row0_col0\" class=\"data row0 col0\" >0.026</td>\n",
       "    </tr>\n",
       "    <tr>\n",
       "      <th id=\"T_8fc00_level0_row1\" class=\"row_heading level0 row1\" >median</th>\n",
       "      <td id=\"T_8fc00_row1_col0\" class=\"data row1 col0\" >0.019</td>\n",
       "    </tr>\n",
       "  </tbody>\n",
       "</table>\n",
       "</div>"
      ],
      "text/plain": [
       "<IPython.core.display.HTML object>"
      ]
     },
     "metadata": {},
     "output_type": "display_data"
    }
   ],
   "source": [
    "# Group variant density statistics\n",
    "for group, data in df_density.groupby([\"allele_type\", \"gene_type\"], sort=False):\n",
    "    data.check.function(\n",
    "        lambda x: x[\"variants_per_nt\"].agg([\"mean\", \"median\"]), check_name=f\"{group}:\"\n",
    "    )"
   ]
  },
  {
   "cell_type": "code",
   "execution_count": 5,
   "metadata": {},
   "outputs": [
    {
     "data": {
      "text/markdown": [
       "<h5 style='text-align: left'><span style='color:None; background-color:None'>First 5 rows</span></h5>"
      ],
      "text/plain": [
       "<IPython.core.display.Markdown object>"
      ]
     },
     "metadata": {},
     "output_type": "display_data"
    },
    {
     "data": {
      "text/html": [
       "<div style=\"margin-left: 30px;\"><style type=\"text/css\">\n",
       "#T_b43a0 tr:hover {\n",
       "  background-color: #2986cc;\n",
       "}\n",
       "</style>\n",
       "<table id=\"T_b43a0\">\n",
       "  <thead>\n",
       "    <tr>\n",
       "      <th class=\"blank level0\" >&nbsp;</th>\n",
       "      <th id=\"T_b43a0_level0_col0\" class=\"col_heading level0 col0\" >count</th>\n",
       "      <th id=\"T_b43a0_level0_col1\" class=\"col_heading level0 col1\" >pct</th>\n",
       "      <th id=\"T_b43a0_level0_col2\" class=\"col_heading level0 col2\" >label</th>\n",
       "    </tr>\n",
       "  </thead>\n",
       "  <tbody>\n",
       "    <tr>\n",
       "      <th id=\"T_b43a0_level0_row0\" class=\"row_heading level0 row0\" >snRNA</th>\n",
       "      <td id=\"T_b43a0_row0_col0\" class=\"data row0 col0\" >120</td>\n",
       "      <td id=\"T_b43a0_row0_col1\" class=\"data row0 col1\" >6.32%</td>\n",
       "      <td id=\"T_b43a0_row0_col2\" class=\"data row0 col2\" >120\n",
       "(6.32%)</td>\n",
       "    </tr>\n",
       "    <tr>\n",
       "      <th id=\"T_b43a0_level0_row1\" class=\"row_heading level0 row1\" >Pseudogene</th>\n",
       "      <td id=\"T_b43a0_row1_col0\" class=\"data row1 col0\" >1778</td>\n",
       "      <td id=\"T_b43a0_row1_col1\" class=\"data row1 col1\" >93.68%</td>\n",
       "      <td id=\"T_b43a0_row1_col2\" class=\"data row1 col2\" >1778\n",
       "(93.68%)</td>\n",
       "    </tr>\n",
       "  </tbody>\n",
       "</table>\n",
       "</div>"
      ],
      "text/plain": [
       "<IPython.core.display.HTML object>"
      ]
     },
     "metadata": {},
     "output_type": "display_data"
    }
   ],
   "source": [
    "# Gene counts\n",
    "df_gene_counts = (\n",
    "    pd.DataFrame(\n",
    "        {\"snRNA\": 120, \"Pseudogene\": 1778},\n",
    "        index=[\"count\"],\n",
    "    )\n",
    "    .T.assign(\n",
    "        pct=lambda x: (x[\"count\"] / x[\"count\"].sum()).map(\"{:.2%}\".format),\n",
    "        label=lambda x: x[\"count\"].astype(str) + \"\\n(\" + x[\"pct\"] + \")\",\n",
    "    )\n",
    "    .check.head()\n",
    ")"
   ]
  },
  {
   "cell_type": "code",
   "execution_count": 29,
   "metadata": {},
   "outputs": [
    {
     "data": {
      "image/png": "[encoded data removed]",
      "text/plain": [
       "<Figure size 472.441x236.22 with 3 Axes>"
      ]
     },
     "metadata": {},
     "output_type": "display_data"
    }
   ],
   "source": [
    "plt.style.use(\"src/default.mpltstyle\")\n",
    "fig, axs = plt.subplots(1, 3, figsize=(12 / 2.54, 6 / 2.54), constrained_layout=True)\n",
    "\n",
    "box_linewidth = 1.2\n",
    "color_snrna = cmaps[\"Blues\"](0.7)\n",
    "color_pseudo = \"grey\"\n",
    "colors = [color_snrna, color_pseudo]\n",
    "dfg_variant_type = df_density.groupby(\"allele_type\", observed=True)\n",
    "ax_labels = [\"SNVs per nt\", \"Indels per nt\"]\n",
    "\n",
    "# Bar chart\n",
    "bar = axs[0].bar(\n",
    "    df_gene_counts.index,\n",
    "    df_gene_counts[\"count\"],\n",
    "    color=[color_snrna, color_pseudo],\n",
    "    edgecolor=\"black\",\n",
    "    lw=0.5,\n",
    "    width=0.7,\n",
    ")\n",
    "axs[0].bar_label(bar, labels=df_gene_counts[\"label\"], padding=3)\n",
    "axs[0].set_ylabel(\"Number of genes\")\n",
    "\n",
    "for ax, (variant_type, data), label in zip(axs[1:], dfg_variant_type, ax_labels):\n",
    "    dfg_gene_type = data.groupby(\"gene_type\", observed=True, sort=False)\n",
    "\n",
    "    for (i, (gene_type, d)), c in zip(enumerate(dfg_gene_type), colors):\n",
    "        d = d.copy()\n",
    "        n = len(d)\n",
    "        d[\"x\"] = i + np.random.uniform(-0.15, 0.15, n)\n",
    "        x = d[\"x\"]\n",
    "        y = d[\"variants_per_nt\"]\n",
    "        ax.boxplot(\n",
    "            y,\n",
    "            positions=[i],\n",
    "            widths=[0.5],\n",
    "            showfliers=False,\n",
    "            boxprops=dict(color=\"black\", lw=1.2),\n",
    "            medianprops=dict(color=\"black\", lw=1.2),\n",
    "            whiskerprops=dict(color=\"black\", lw=1.2),\n",
    "            capprops=dict(color=\"black\", lw=1.2),\n",
    "            tick_labels=[gene_type],\n",
    "            whis=[10, 90],\n",
    "            zorder=10,\n",
    "        )\n",
    "        scatter = ax.scatter(x, y, alpha=0.5, lw=0, color=c, s=25)\n",
    "\n",
    "    # Customize axes\n",
    "    ax.set_ylabel(label)\n",
    "\n",
    "    # Add significance labels\n",
    "    snrna_density = data.loc[lambda x: x[\"gene_type\"] == \"snRNA\", \"variants_per_nt\"]\n",
    "    pseudo_density = data.loc[\n",
    "        lambda x: x[\"gene_type\"] == \"Pseudogene\", \"variants_per_nt\"\n",
    "    ]\n",
    "\n",
    "    p = mwu(snrna_density, pseudo_density, alternative=\"two-sided\").pvalue\n",
    "    p_label = f\"P={p:.3n}\"\n",
    "\n",
    "    vis.annotate_stats_horizontal_line(p_label, 0, 1, ax=ax)\n",
    "\n",
    "# Save figure\n",
    "plt.savefig(PNG, dpi=600)\n",
    "plt.savefig(SVG)"
   ]
  }
 ],
 "metadata": {
  "kernelspec": {
   "display_name": "crdg_test",
   "language": "python",
   "name": "python3"
  },
  "language_info": {
   "codemirror_mode": {
    "name": "ipython",
    "version": 3
   },
   "file_extension": ".py",
   "mimetype": "text/x-python",
   "name": "python",
   "nbconvert_exporter": "python",
   "pygments_lexer": "ipython3",
   "version": "3.12.11"
  }
 },
 "nbformat": 4,
 "nbformat_minor": 2
}
