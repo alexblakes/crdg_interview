{
 "cells": [
  {
   "cell_type": "code",
   "execution_count": 1,
   "metadata": {},
   "outputs": [],
   "source": [
    "import pandas as pd\n",
    "import pandas_checks as pdc\n",
    "import numpy as np\n",
    "import src\n",
    "\n",
    "FILE_IN = \"data/interim/gnomad_snrna_variants_tidy.tsv\""
   ]
  },
  {
   "cell_type": "markdown",
   "metadata": {},
   "source": [
    "**NOTE** Several genes have the same HGNC symbol, but different ENSG IDs. Grouping should be done by ENSG ID. Specifically U1, U2, U4, U6, U7."
   ]
  },
  {
   "cell_type": "code",
   "execution_count": 4,
   "metadata": {},
   "outputs": [
    {
     "data": {
      "text/markdown": [
       "<h5 style='text-align: left'><span style='color:None; background-color:None'>Allele type value counts:</span></h5>"
      ],
      "text/plain": [
       "<IPython.core.display.Markdown object>"
      ]
     },
     "metadata": {},
     "output_type": "display_data"
    },
    {
     "data": {
      "text/html": [
       "<div style=\"margin-left: 30px;\"><style type=\"text/css\">\n",
       "#T_65be9 tr:hover {\n",
       "  background-color: #2986cc;\n",
       "}\n",
       "</style>\n",
       "<table id=\"T_65be9\">\n",
       "  <thead>\n",
       "    <tr>\n",
       "      <th class=\"blank level0\" >&nbsp;</th>\n",
       "      <th id=\"T_65be9_level0_col0\" class=\"col_heading level0 col0\" >count</th>\n",
       "    </tr>\n",
       "    <tr>\n",
       "      <th class=\"index_name level0\" >allele_type</th>\n",
       "      <th class=\"blank col0\" >&nbsp;</th>\n",
       "    </tr>\n",
       "  </thead>\n",
       "  <tbody>\n",
       "    <tr>\n",
       "      <th id=\"T_65be9_level0_row0\" class=\"row_heading level0 row0\" >SNV</th>\n",
       "      <td id=\"T_65be9_row0_col0\" class=\"data row0 col0\" >49368</td>\n",
       "    </tr>\n",
       "    <tr>\n",
       "      <th id=\"T_65be9_level0_row1\" class=\"row_heading level0 row1\" >Indel</th>\n",
       "      <td id=\"T_65be9_row1_col0\" class=\"data row1 col0\" >4847</td>\n",
       "    </tr>\n",
       "  </tbody>\n",
       "</table>\n",
       "</div>"
      ],
      "text/plain": [
       "<IPython.core.display.HTML object>"
      ]
     },
     "metadata": {},
     "output_type": "display_data"
    },
    {
     "data": {
      "text/markdown": [
       "<h5 style='text-align: left'><span style='color:None; background-color:None'>Gene type value counts:</span></h5>"
      ],
      "text/plain": [
       "<IPython.core.display.Markdown object>"
      ]
     },
     "metadata": {},
     "output_type": "display_data"
    },
    {
     "data": {
      "text/html": [
       "<div style=\"margin-left: 30px;\"><style type=\"text/css\">\n",
       "#T_8081f tr:hover {\n",
       "  background-color: #2986cc;\n",
       "}\n",
       "</style>\n",
       "<table id=\"T_8081f\">\n",
       "  <thead>\n",
       "    <tr>\n",
       "      <th class=\"blank level0\" >&nbsp;</th>\n",
       "      <th id=\"T_8081f_level0_col0\" class=\"col_heading level0 col0\" >count</th>\n",
       "    </tr>\n",
       "    <tr>\n",
       "      <th class=\"index_name level0\" >gene_type</th>\n",
       "      <th class=\"blank col0\" >&nbsp;</th>\n",
       "    </tr>\n",
       "  </thead>\n",
       "  <tbody>\n",
       "    <tr>\n",
       "      <th id=\"T_8081f_level0_row0\" class=\"row_heading level0 row0\" >Pseudogene</th>\n",
       "      <td id=\"T_8081f_row0_col0\" class=\"data row0 col0\" >1748</td>\n",
       "    </tr>\n",
       "    <tr>\n",
       "      <th id=\"T_8081f_level0_row1\" class=\"row_heading level0 row1\" >snRNA</th>\n",
       "      <td id=\"T_8081f_row1_col0\" class=\"data row1 col0\" >114</td>\n",
       "    </tr>\n",
       "  </tbody>\n",
       "</table>\n",
       "</div>"
      ],
      "text/plain": [
       "<IPython.core.display.HTML object>"
      ]
     },
     "metadata": {},
     "output_type": "display_data"
    },
    {
     "data": {
      "text/markdown": [
       "<h5 style='text-align: left'><span style='color:None; background-color:None'>Duplicate variants: 0</span></h5>"
      ],
      "text/plain": [
       "<IPython.core.display.Markdown object>"
      ]
     },
     "metadata": {},
     "output_type": "display_data"
    },
    {
     "data": {
      "text/markdown": [
       "<h5 style='text-align: left'><span style='color:None; background-color:None'>Number of variants: 54215</span></h5>"
      ],
      "text/plain": [
       "<IPython.core.display.Markdown object>"
      ]
     },
     "metadata": {},
     "output_type": "display_data"
    },
    {
     "data": {
      "text/markdown": [
       "<h5 style='text-align: left'><span style='color:None; background-color:None'>Number of genes: 1862</span></h5>"
      ],
      "text/plain": [
       "<IPython.core.display.Markdown object>"
      ]
     },
     "metadata": {},
     "output_type": "display_data"
    },
    {
     "data": {
      "text/markdown": [
       "<h5 style='text-align: left'><span style='color:black; background-color:green'>All AC > 0</span></h5>"
      ],
      "text/plain": [
       "<IPython.core.display.Markdown object>"
      ]
     },
     "metadata": {},
     "output_type": "display_data"
    },
    {
     "data": {
      "text/markdown": [
       "<h5 style='text-align: left'><span style='color:None; background-color:None'>Duplicate gene symbols, different ENSG IDs:</span></h5>"
      ],
      "text/plain": [
       "<IPython.core.display.Markdown object>"
      ]
     },
     "metadata": {},
     "output_type": "display_data"
    },
    {
     "data": {
      "text/html": [
       "<div style=\"margin-left: 30px;\"><style type=\"text/css\">\n",
       "#T_c8a9e tr:hover {\n",
       "  background-color: #2986cc;\n",
       "}\n",
       "</style>\n",
       "<table id=\"T_c8a9e\">\n",
       "  <thead>\n",
       "    <tr>\n",
       "      <th class=\"blank level0\" >&nbsp;</th>\n",
       "      <th id=\"T_c8a9e_level0_col0\" class=\"col_heading level0 col0\" >count</th>\n",
       "    </tr>\n",
       "    <tr>\n",
       "      <th class=\"index_name level0\" >symbol</th>\n",
       "      <th class=\"blank col0\" >&nbsp;</th>\n",
       "    </tr>\n",
       "  </thead>\n",
       "  <tbody>\n",
       "    <tr>\n",
       "      <th id=\"T_c8a9e_level0_row0\" class=\"row_heading level0 row0\" >U6</th>\n",
       "      <td id=\"T_c8a9e_row0_col0\" class=\"data row0 col0\" >31</td>\n",
       "    </tr>\n",
       "    <tr>\n",
       "      <th id=\"T_c8a9e_level0_row1\" class=\"row_heading level0 row1\" >U2</th>\n",
       "      <td id=\"T_c8a9e_row1_col0\" class=\"data row1 col0\" >14</td>\n",
       "    </tr>\n",
       "    <tr>\n",
       "      <th id=\"T_c8a9e_level0_row2\" class=\"row_heading level0 row2\" >U4</th>\n",
       "      <td id=\"T_c8a9e_row2_col0\" class=\"data row2 col0\" >7</td>\n",
       "    </tr>\n",
       "    <tr>\n",
       "      <th id=\"T_c8a9e_level0_row3\" class=\"row_heading level0 row3\" >U7</th>\n",
       "      <td id=\"T_c8a9e_row3_col0\" class=\"data row3 col0\" >7</td>\n",
       "    </tr>\n",
       "    <tr>\n",
       "      <th id=\"T_c8a9e_level0_row4\" class=\"row_heading level0 row4\" >U1</th>\n",
       "      <td id=\"T_c8a9e_row4_col0\" class=\"data row4 col0\" >3</td>\n",
       "    </tr>\n",
       "  </tbody>\n",
       "</table>\n",
       "</div>"
      ],
      "text/plain": [
       "<IPython.core.display.HTML object>"
      ]
     },
     "metadata": {},
     "output_type": "display_data"
    },
    {
     "data": {
      "text/markdown": [
       "<h5 style='text-align: left'><span style='color:None; background-color:None'>ENSG IDs on multiple chromosomes:</span></h5>"
      ],
      "text/plain": [
       "<IPython.core.display.Markdown object>"
      ]
     },
     "metadata": {},
     "output_type": "display_data"
    },
    {
     "data": {
      "text/html": [
       "<div style=\"margin-left: 30px;\"><style type=\"text/css\">\n",
       "#T_c7279 tr:hover {\n",
       "  background-color: #2986cc;\n",
       "}\n",
       "</style>\n",
       "<table id=\"T_c7279\">\n",
       "  <thead>\n",
       "    <tr>\n",
       "      <th class=\"blank level0\" >&nbsp;</th>\n",
       "      <th id=\"T_c7279_level0_col0\" class=\"col_heading level0 col0\" >chrom</th>\n",
       "      <th id=\"T_c7279_level0_col1\" class=\"col_heading level0 col1\" >ensg</th>\n",
       "    </tr>\n",
       "  </thead>\n",
       "  <tbody>\n",
       "  </tbody>\n",
       "</table>\n",
       "</div>"
      ],
      "text/plain": [
       "<IPython.core.display.HTML object>"
      ]
     },
     "metadata": {},
     "output_type": "display_data"
    },
    {
     "data": {
      "text/markdown": [
       "<h5 style='text-align: left'><span style='color:None; background-color:None'>First 5 rows</span></h5>"
      ],
      "text/plain": [
       "<IPython.core.display.Markdown object>"
      ]
     },
     "metadata": {},
     "output_type": "display_data"
    },
    {
     "data": {
      "text/html": [
       "<div style=\"margin-left: 30px;\"><style type=\"text/css\">\n",
       "#T_0e6fc tr:hover {\n",
       "  background-color: #2986cc;\n",
       "}\n",
       "</style>\n",
       "<table id=\"T_0e6fc\">\n",
       "  <thead>\n",
       "    <tr>\n",
       "      <th class=\"blank level0\" >&nbsp;</th>\n",
       "      <th id=\"T_0e6fc_level0_col0\" class=\"col_heading level0 col0\" >chrom</th>\n",
       "      <th id=\"T_0e6fc_level0_col1\" class=\"col_heading level0 col1\" >pos</th>\n",
       "      <th id=\"T_0e6fc_level0_col2\" class=\"col_heading level0 col2\" >ref</th>\n",
       "      <th id=\"T_0e6fc_level0_col3\" class=\"col_heading level0 col3\" >alt</th>\n",
       "      <th id=\"T_0e6fc_level0_col4\" class=\"col_heading level0 col4\" >ac</th>\n",
       "      <th id=\"T_0e6fc_level0_col5\" class=\"col_heading level0 col5\" >an</th>\n",
       "      <th id=\"T_0e6fc_level0_col6\" class=\"col_heading level0 col6\" >af</th>\n",
       "      <th id=\"T_0e6fc_level0_col7\" class=\"col_heading level0 col7\" >nhomalt</th>\n",
       "      <th id=\"T_0e6fc_level0_col8\" class=\"col_heading level0 col8\" >ac_nfe</th>\n",
       "      <th id=\"T_0e6fc_level0_col9\" class=\"col_heading level0 col9\" >an_nfe</th>\n",
       "      <th id=\"T_0e6fc_level0_col10\" class=\"col_heading level0 col10\" >af_nfe</th>\n",
       "      <th id=\"T_0e6fc_level0_col11\" class=\"col_heading level0 col11\" >nhomalt_nfe</th>\n",
       "      <th id=\"T_0e6fc_level0_col12\" class=\"col_heading level0 col12\" >af_popmax</th>\n",
       "      <th id=\"T_0e6fc_level0_col13\" class=\"col_heading level0 col13\" >allele_type</th>\n",
       "      <th id=\"T_0e6fc_level0_col14\" class=\"col_heading level0 col14\" >cadd_phred</th>\n",
       "      <th id=\"T_0e6fc_level0_col15\" class=\"col_heading level0 col15\" >ensg</th>\n",
       "      <th id=\"T_0e6fc_level0_col16\" class=\"col_heading level0 col16\" >symbol</th>\n",
       "      <th id=\"T_0e6fc_level0_col17\" class=\"col_heading level0 col17\" >length</th>\n",
       "      <th id=\"T_0e6fc_level0_col18\" class=\"col_heading level0 col18\" >gene_type</th>\n",
       "    </tr>\n",
       "  </thead>\n",
       "  <tbody>\n",
       "    <tr>\n",
       "      <th id=\"T_0e6fc_level0_row0\" class=\"row_heading level0 row0\" >0</th>\n",
       "      <td id=\"T_0e6fc_row0_col0\" class=\"data row0 col0\" >chr1</td>\n",
       "      <td id=\"T_0e6fc_row0_col1\" class=\"data row0 col1\" >157840</td>\n",
       "      <td id=\"T_0e6fc_row0_col2\" class=\"data row0 col2\" >ATCTC</td>\n",
       "      <td id=\"T_0e6fc_row0_col3\" class=\"data row0 col3\" >A</td>\n",
       "      <td id=\"T_0e6fc_row0_col4\" class=\"data row0 col4\" >1</td>\n",
       "      <td id=\"T_0e6fc_row0_col5\" class=\"data row0 col5\" >29526</td>\n",
       "      <td id=\"T_0e6fc_row0_col6\" class=\"data row0 col6\" >0.000</td>\n",
       "      <td id=\"T_0e6fc_row0_col7\" class=\"data row0 col7\" >0</td>\n",
       "      <td id=\"T_0e6fc_row0_col8\" class=\"data row0 col8\" >1</td>\n",
       "      <td id=\"T_0e6fc_row0_col9\" class=\"data row0 col9\" >13154</td>\n",
       "      <td id=\"T_0e6fc_row0_col10\" class=\"data row0 col10\" >0.000</td>\n",
       "      <td id=\"T_0e6fc_row0_col11\" class=\"data row0 col11\" >0</td>\n",
       "      <td id=\"T_0e6fc_row0_col12\" class=\"data row0 col12\" >0.000</td>\n",
       "      <td id=\"T_0e6fc_row0_col13\" class=\"data row0 col13\" >Indel</td>\n",
       "      <td id=\"T_0e6fc_row0_col14\" class=\"data row0 col14\" >1.546</td>\n",
       "      <td id=\"T_0e6fc_row0_col15\" class=\"data row0 col15\" >ENSG00000222623.1</td>\n",
       "      <td id=\"T_0e6fc_row0_col16\" class=\"data row0 col16\" >RNU6-1100P</td>\n",
       "      <td id=\"T_0e6fc_row0_col17\" class=\"data row0 col17\" >104</td>\n",
       "      <td id=\"T_0e6fc_row0_col18\" class=\"data row0 col18\" >Pseudogene</td>\n",
       "    </tr>\n",
       "    <tr>\n",
       "      <th id=\"T_0e6fc_level0_row1\" class=\"row_heading level0 row1\" >1</th>\n",
       "      <td id=\"T_0e6fc_row1_col0\" class=\"data row1 col0\" >chr1</td>\n",
       "      <td id=\"T_0e6fc_row1_col1\" class=\"data row1 col1\" >758239</td>\n",
       "      <td id=\"T_0e6fc_row1_col2\" class=\"data row1 col2\" >A</td>\n",
       "      <td id=\"T_0e6fc_row1_col3\" class=\"data row1 col3\" >T</td>\n",
       "      <td id=\"T_0e6fc_row1_col4\" class=\"data row1 col4\" >2</td>\n",
       "      <td id=\"T_0e6fc_row1_col5\" class=\"data row1 col5\" >146046</td>\n",
       "      <td id=\"T_0e6fc_row1_col6\" class=\"data row1 col6\" >0.000</td>\n",
       "      <td id=\"T_0e6fc_row1_col7\" class=\"data row1 col7\" >0</td>\n",
       "      <td id=\"T_0e6fc_row1_col8\" class=\"data row1 col8\" >1</td>\n",
       "      <td id=\"T_0e6fc_row1_col9\" class=\"data row1 col9\" >68022</td>\n",
       "      <td id=\"T_0e6fc_row1_col10\" class=\"data row1 col10\" >0.000</td>\n",
       "      <td id=\"T_0e6fc_row1_col11\" class=\"data row1 col11\" >0</td>\n",
       "      <td id=\"T_0e6fc_row1_col12\" class=\"data row1 col12\" >0.000</td>\n",
       "      <td id=\"T_0e6fc_row1_col13\" class=\"data row1 col13\" >SNV</td>\n",
       "      <td id=\"T_0e6fc_row1_col14\" class=\"data row1 col14\" >1.479</td>\n",
       "      <td id=\"T_0e6fc_row1_col15\" class=\"data row1 col15\" >ENSG00000223181.1</td>\n",
       "      <td id=\"T_0e6fc_row1_col16\" class=\"data row1 col16\" >RNU6-1199P</td>\n",
       "      <td id=\"T_0e6fc_row1_col17\" class=\"data row1 col17\" >104</td>\n",
       "      <td id=\"T_0e6fc_row1_col18\" class=\"data row1 col18\" >Pseudogene</td>\n",
       "    </tr>\n",
       "    <tr>\n",
       "      <th id=\"T_0e6fc_level0_row2\" class=\"row_heading level0 row2\" >2</th>\n",
       "      <td id=\"T_0e6fc_row2_col0\" class=\"data row2 col0\" >chr1</td>\n",
       "      <td id=\"T_0e6fc_row2_col1\" class=\"data row2 col1\" >758240</td>\n",
       "      <td id=\"T_0e6fc_row2_col2\" class=\"data row2 col2\" >T</td>\n",
       "      <td id=\"T_0e6fc_row2_col3\" class=\"data row2 col3\" >C</td>\n",
       "      <td id=\"T_0e6fc_row2_col4\" class=\"data row2 col4\" >2</td>\n",
       "      <td id=\"T_0e6fc_row2_col5\" class=\"data row2 col5\" >146026</td>\n",
       "      <td id=\"T_0e6fc_row2_col6\" class=\"data row2 col6\" >0.000</td>\n",
       "      <td id=\"T_0e6fc_row2_col7\" class=\"data row2 col7\" >0</td>\n",
       "      <td id=\"T_0e6fc_row2_col8\" class=\"data row2 col8\" >1</td>\n",
       "      <td id=\"T_0e6fc_row2_col9\" class=\"data row2 col9\" >68014</td>\n",
       "      <td id=\"T_0e6fc_row2_col10\" class=\"data row2 col10\" >0.000</td>\n",
       "      <td id=\"T_0e6fc_row2_col11\" class=\"data row2 col11\" >0</td>\n",
       "      <td id=\"T_0e6fc_row2_col12\" class=\"data row2 col12\" >0.000</td>\n",
       "      <td id=\"T_0e6fc_row2_col13\" class=\"data row2 col13\" >SNV</td>\n",
       "      <td id=\"T_0e6fc_row2_col14\" class=\"data row2 col14\" >1.903</td>\n",
       "      <td id=\"T_0e6fc_row2_col15\" class=\"data row2 col15\" >ENSG00000223181.1</td>\n",
       "      <td id=\"T_0e6fc_row2_col16\" class=\"data row2 col16\" >RNU6-1199P</td>\n",
       "      <td id=\"T_0e6fc_row2_col17\" class=\"data row2 col17\" >104</td>\n",
       "      <td id=\"T_0e6fc_row2_col18\" class=\"data row2 col18\" >Pseudogene</td>\n",
       "    </tr>\n",
       "    <tr>\n",
       "      <th id=\"T_0e6fc_level0_row3\" class=\"row_heading level0 row3\" >3</th>\n",
       "      <td id=\"T_0e6fc_row3_col0\" class=\"data row3 col0\" >chr1</td>\n",
       "      <td id=\"T_0e6fc_row3_col1\" class=\"data row3 col1\" >758245</td>\n",
       "      <td id=\"T_0e6fc_row3_col2\" class=\"data row3 col2\" >T</td>\n",
       "      <td id=\"T_0e6fc_row3_col3\" class=\"data row3 col3\" >C</td>\n",
       "      <td id=\"T_0e6fc_row3_col4\" class=\"data row3 col4\" >4207</td>\n",
       "      <td id=\"T_0e6fc_row3_col5\" class=\"data row3 col5\" >145902</td>\n",
       "      <td id=\"T_0e6fc_row3_col6\" class=\"data row3 col6\" >0.029</td>\n",
       "      <td id=\"T_0e6fc_row3_col7\" class=\"data row3 col7\" >168</td>\n",
       "      <td id=\"T_0e6fc_row3_col8\" class=\"data row3 col8\" >2678</td>\n",
       "      <td id=\"T_0e6fc_row3_col9\" class=\"data row3 col9\" >67982</td>\n",
       "      <td id=\"T_0e6fc_row3_col10\" class=\"data row3 col10\" >0.039</td>\n",
       "      <td id=\"T_0e6fc_row3_col11\" class=\"data row3 col11\" >79</td>\n",
       "      <td id=\"T_0e6fc_row3_col12\" class=\"data row3 col12\" >0.039</td>\n",
       "      <td id=\"T_0e6fc_row3_col13\" class=\"data row3 col13\" >SNV</td>\n",
       "      <td id=\"T_0e6fc_row3_col14\" class=\"data row3 col14\" >1.843</td>\n",
       "      <td id=\"T_0e6fc_row3_col15\" class=\"data row3 col15\" >ENSG00000223181.1</td>\n",
       "      <td id=\"T_0e6fc_row3_col16\" class=\"data row3 col16\" >RNU6-1199P</td>\n",
       "      <td id=\"T_0e6fc_row3_col17\" class=\"data row3 col17\" >104</td>\n",
       "      <td id=\"T_0e6fc_row3_col18\" class=\"data row3 col18\" >Pseudogene</td>\n",
       "    </tr>\n",
       "    <tr>\n",
       "      <th id=\"T_0e6fc_level0_row4\" class=\"row_heading level0 row4\" >4</th>\n",
       "      <td id=\"T_0e6fc_row4_col0\" class=\"data row4 col0\" >chr1</td>\n",
       "      <td id=\"T_0e6fc_row4_col1\" class=\"data row4 col1\" >758254</td>\n",
       "      <td id=\"T_0e6fc_row4_col2\" class=\"data row4 col2\" >A</td>\n",
       "      <td id=\"T_0e6fc_row4_col3\" class=\"data row4 col3\" >G</td>\n",
       "      <td id=\"T_0e6fc_row4_col4\" class=\"data row4 col4\" >1</td>\n",
       "      <td id=\"T_0e6fc_row4_col5\" class=\"data row4 col5\" >146004</td>\n",
       "      <td id=\"T_0e6fc_row4_col6\" class=\"data row4 col6\" >0.000</td>\n",
       "      <td id=\"T_0e6fc_row4_col7\" class=\"data row4 col7\" >0</td>\n",
       "      <td id=\"T_0e6fc_row4_col8\" class=\"data row4 col8\" >0</td>\n",
       "      <td id=\"T_0e6fc_row4_col9\" class=\"data row4 col9\" >68002</td>\n",
       "      <td id=\"T_0e6fc_row4_col10\" class=\"data row4 col10\" >0.000</td>\n",
       "      <td id=\"T_0e6fc_row4_col11\" class=\"data row4 col11\" >0</td>\n",
       "      <td id=\"T_0e6fc_row4_col12\" class=\"data row4 col12\" >0.000</td>\n",
       "      <td id=\"T_0e6fc_row4_col13\" class=\"data row4 col13\" >SNV</td>\n",
       "      <td id=\"T_0e6fc_row4_col14\" class=\"data row4 col14\" >2.970</td>\n",
       "      <td id=\"T_0e6fc_row4_col15\" class=\"data row4 col15\" >ENSG00000223181.1</td>\n",
       "      <td id=\"T_0e6fc_row4_col16\" class=\"data row4 col16\" >RNU6-1199P</td>\n",
       "      <td id=\"T_0e6fc_row4_col17\" class=\"data row4 col17\" >104</td>\n",
       "      <td id=\"T_0e6fc_row4_col18\" class=\"data row4 col18\" >Pseudogene</td>\n",
       "    </tr>\n",
       "  </tbody>\n",
       "</table>\n",
       "</div>"
      ],
      "text/plain": [
       "<IPython.core.display.HTML object>"
      ]
     },
     "metadata": {},
     "output_type": "display_data"
    }
   ],
   "source": [
    "df = (\n",
    "    pd.read_csv(FILE_IN, sep=\"\\t\", na_values=\".\")\n",
    "    .pipe(\n",
    "        lambda x: x.assign(\n",
    "            **pd.DataFrame(\n",
    "                x[\"bed_info\"].str.split(\",\").to_list(),\n",
    "                columns=[\"ensg\", \"symbol\", \"length\"],\n",
    "                index=x.index,\n",
    "            )\n",
    "        ).drop(columns=[\"bed_info\"])\n",
    "    )\n",
    "    .astype({\"length\": \"int\"})\n",
    "    .assign(\n",
    "        allele_type=lambda x: np.where(x[\"allele_type\"] == \"snv\", \"SNV\", \"Indel\"),\n",
    "        gene_type=lambda x: np.where(\n",
    "            x[\"symbol\"].str.endswith(\"P\"), \"Pseudogene\", \"snRNA\"\n",
    "        ),\n",
    "    )\n",
    "    .check.value_counts(\"allele_type\", check_name=\"Allele type value counts:\")\n",
    "    .check.function(lambda x: x.drop_duplicates(\"ensg\")[\"gene_type\"].value_counts(), check_name=\"Gene type value counts:\")\n",
    "    .check.ndups(subset=[\"chrom\", \"pos\", \"ref\", \"alt\"], check_name=\"Duplicate variants\")\n",
    "    .check.nrows(check_name=\"Number of variants\")\n",
    "    .check.nunique(\"ensg\", check_name=\"Number of genes\")\n",
    "    .check.assert_greater_than(0, subset=\"ac\", pass_message=\"All AC > 0\", verbose=True)\n",
    "    .check.function(\n",
    "        lambda x: x[[\"ensg\", \"symbol\"]]\n",
    "        .drop_duplicates()\n",
    "        .loc[lambda x: x.duplicated(\"symbol\", keep=False)]\n",
    "        .sort_values(\"symbol\")\n",
    "        .value_counts(\"symbol\"),\n",
    "        check_name=\"Duplicate gene symbols, different ENSG IDs:\",\n",
    "    )\n",
    "    .check.function(\n",
    "        lambda x: x[[\"chrom\", \"ensg\"]]\n",
    "        .drop_duplicates()\n",
    "        .loc[lambda x: x.duplicated(\"ensg\", keep=False)],\n",
    "        check_name=\"ENSG IDs on multiple chromosomes:\",\n",
    "    )\n",
    "    .check.head()\n",
    ")"
   ]
  },
  {
   "cell_type": "code",
   "execution_count": 3,
   "metadata": {},
   "outputs": [
    {
     "data": {
      "text/markdown": [
       "<h5 style='text-align: left'><span style='color:None; background-color:None'>Info</span></h5>"
      ],
      "text/plain": [
       "<IPython.core.display.Markdown object>"
      ]
     },
     "metadata": {},
     "output_type": "display_data"
    },
    {
     "name": "stdout",
     "output_type": "stream",
     "text": [
      "<class 'pandas.core.frame.DataFrame'>\n",
      "MultiIndex: 3292 entries, ('ENSG00000194297.2', 'SNV') to ('ENSG00000286172.1', 'SNV')\n",
      "Data columns (total 5 columns):\n",
      " #   Column           Non-Null Count  Dtype  \n",
      "---  ------           --------------  -----  \n",
      " 0   symbol           3292 non-null   object \n",
      " 1   gene_type        3292 non-null   object \n",
      " 2   length           3292 non-null   int64  \n",
      " 3   n_variants       3292 non-null   int64  \n",
      " 4   variants_per_nt  3292 non-null   float64\n",
      "dtypes: float64(1), int64(2), object(2)\n",
      "memory usage: 152.9+ KB\n",
      "\n"
     ]
    },
    {
     "data": {
      "text/markdown": [
       "<h5 style='text-align: left'><span style='color:None; background-color:None'>First 5 rows</span></h5>"
      ],
      "text/plain": [
       "<IPython.core.display.Markdown object>"
      ]
     },
     "metadata": {},
     "output_type": "display_data"
    },
    {
     "data": {
      "text/html": [
       "<div style=\"margin-left: 30px;\"><style type=\"text/css\">\n",
       "#T_0176d tr:hover {\n",
       "  background-color: #2986cc;\n",
       "}\n",
       "</style>\n",
       "<table id=\"T_0176d\">\n",
       "  <thead>\n",
       "    <tr>\n",
       "      <th class=\"blank\" >&nbsp;</th>\n",
       "      <th class=\"blank level0\" >&nbsp;</th>\n",
       "      <th id=\"T_0176d_level0_col0\" class=\"col_heading level0 col0\" >symbol</th>\n",
       "      <th id=\"T_0176d_level0_col1\" class=\"col_heading level0 col1\" >gene_type</th>\n",
       "      <th id=\"T_0176d_level0_col2\" class=\"col_heading level0 col2\" >length</th>\n",
       "      <th id=\"T_0176d_level0_col3\" class=\"col_heading level0 col3\" >n_variants</th>\n",
       "      <th id=\"T_0176d_level0_col4\" class=\"col_heading level0 col4\" >variants_per_nt</th>\n",
       "    </tr>\n",
       "    <tr>\n",
       "      <th class=\"index_name level0\" >ensg</th>\n",
       "      <th class=\"index_name level1\" >allele_type</th>\n",
       "      <th class=\"blank col0\" >&nbsp;</th>\n",
       "      <th class=\"blank col1\" >&nbsp;</th>\n",
       "      <th class=\"blank col2\" >&nbsp;</th>\n",
       "      <th class=\"blank col3\" >&nbsp;</th>\n",
       "      <th class=\"blank col4\" >&nbsp;</th>\n",
       "    </tr>\n",
       "  </thead>\n",
       "  <tbody>\n",
       "    <tr>\n",
       "      <th id=\"T_0176d_level0_row0\" class=\"row_heading level0 row0\" >ENSG00000194297.2</th>\n",
       "      <th id=\"T_0176d_level1_row0\" class=\"row_heading level1 row0\" >SNV</th>\n",
       "      <td id=\"T_0176d_row0_col0\" class=\"data row0 col0\" >RNU1-75P</td>\n",
       "      <td id=\"T_0176d_row0_col1\" class=\"data row0 col1\" >Pseudogene</td>\n",
       "      <td id=\"T_0176d_row0_col2\" class=\"data row0 col2\" >129</td>\n",
       "      <td id=\"T_0176d_row0_col3\" class=\"data row0 col3\" >31</td>\n",
       "      <td id=\"T_0176d_row0_col4\" class=\"data row0 col4\" >0.240</td>\n",
       "    </tr>\n",
       "    <tr>\n",
       "      <th id=\"T_0176d_level0_row1\" class=\"row_heading level0 row1\" >ENSG00000195024.2</th>\n",
       "      <th id=\"T_0176d_level1_row1\" class=\"row_heading level1 row1\" >SNV</th>\n",
       "      <td id=\"T_0176d_row1_col0\" class=\"data row1 col0\" >RNU1-15P</td>\n",
       "      <td id=\"T_0176d_row1_col1\" class=\"data row1 col1\" >Pseudogene</td>\n",
       "      <td id=\"T_0176d_row1_col2\" class=\"data row1 col2\" >144</td>\n",
       "      <td id=\"T_0176d_row1_col3\" class=\"data row1 col3\" >32</td>\n",
       "      <td id=\"T_0176d_row1_col4\" class=\"data row1 col4\" >0.222</td>\n",
       "    </tr>\n",
       "    <tr>\n",
       "      <th id=\"T_0176d_level0_row2\" class=\"row_heading level0 row2\" rowspan=\"2\">ENSG00000199217.1</th>\n",
       "      <th id=\"T_0176d_level1_row2\" class=\"row_heading level1 row2\" >Indel</th>\n",
       "      <td id=\"T_0176d_row2_col0\" class=\"data row2 col0\" >RNU6-1123P</td>\n",
       "      <td id=\"T_0176d_row2_col1\" class=\"data row2 col1\" >Pseudogene</td>\n",
       "      <td id=\"T_0176d_row2_col2\" class=\"data row2 col2\" >106</td>\n",
       "      <td id=\"T_0176d_row2_col3\" class=\"data row2 col3\" >1</td>\n",
       "      <td id=\"T_0176d_row2_col4\" class=\"data row2 col4\" >0.009</td>\n",
       "    </tr>\n",
       "    <tr>\n",
       "      <th id=\"T_0176d_level1_row3\" class=\"row_heading level1 row3\" >SNV</th>\n",
       "      <td id=\"T_0176d_row3_col0\" class=\"data row3 col0\" >RNU6-1123P</td>\n",
       "      <td id=\"T_0176d_row3_col1\" class=\"data row3 col1\" >Pseudogene</td>\n",
       "      <td id=\"T_0176d_row3_col2\" class=\"data row3 col2\" >106</td>\n",
       "      <td id=\"T_0176d_row3_col3\" class=\"data row3 col3\" >23</td>\n",
       "      <td id=\"T_0176d_row3_col4\" class=\"data row3 col4\" >0.217</td>\n",
       "    </tr>\n",
       "    <tr>\n",
       "      <th id=\"T_0176d_level0_row4\" class=\"row_heading level0 row4\" >ENSG00000199219.1</th>\n",
       "      <th id=\"T_0176d_level1_row4\" class=\"row_heading level1 row4\" >Indel</th>\n",
       "      <td id=\"T_0176d_row4_col0\" class=\"data row4 col0\" >RNU6-500P</td>\n",
       "      <td id=\"T_0176d_row4_col1\" class=\"data row4 col1\" >Pseudogene</td>\n",
       "      <td id=\"T_0176d_row4_col2\" class=\"data row4 col2\" >107</td>\n",
       "      <td id=\"T_0176d_row4_col3\" class=\"data row4 col3\" >3</td>\n",
       "      <td id=\"T_0176d_row4_col4\" class=\"data row4 col4\" >0.028</td>\n",
       "    </tr>\n",
       "  </tbody>\n",
       "</table>\n",
       "</div>"
      ],
      "text/plain": [
       "<IPython.core.display.HTML object>"
      ]
     },
     "metadata": {},
     "output_type": "display_data"
    },
    {
     "data": {
      "text/html": [
       "<div>\n",
       "<style scoped>\n",
       "    .dataframe tbody tr th:only-of-type {\n",
       "        vertical-align: middle;\n",
       "    }\n",
       "\n",
       "    .dataframe tbody tr th {\n",
       "        vertical-align: top;\n",
       "    }\n",
       "\n",
       "    .dataframe thead th {\n",
       "        text-align: right;\n",
       "    }\n",
       "</style>\n",
       "<table border=\"1\" class=\"dataframe\">\n",
       "  <thead>\n",
       "    <tr style=\"text-align: right;\">\n",
       "      <th></th>\n",
       "      <th></th>\n",
       "      <th>symbol</th>\n",
       "      <th>gene_type</th>\n",
       "      <th>length</th>\n",
       "      <th>n_variants</th>\n",
       "      <th>variants_per_nt</th>\n",
       "    </tr>\n",
       "    <tr>\n",
       "      <th>ensg</th>\n",
       "      <th>allele_type</th>\n",
       "      <th></th>\n",
       "      <th></th>\n",
       "      <th></th>\n",
       "      <th></th>\n",
       "      <th></th>\n",
       "    </tr>\n",
       "  </thead>\n",
       "  <tbody>\n",
       "    <tr>\n",
       "      <th>ENSG00000194297.2</th>\n",
       "      <th>SNV</th>\n",
       "      <td>RNU1-75P</td>\n",
       "      <td>Pseudogene</td>\n",
       "      <td>129</td>\n",
       "      <td>31</td>\n",
       "      <td>0.240310</td>\n",
       "    </tr>\n",
       "    <tr>\n",
       "      <th>ENSG00000195024.2</th>\n",
       "      <th>SNV</th>\n",
       "      <td>RNU1-15P</td>\n",
       "      <td>Pseudogene</td>\n",
       "      <td>144</td>\n",
       "      <td>32</td>\n",
       "      <td>0.222222</td>\n",
       "    </tr>\n",
       "    <tr>\n",
       "      <th rowspan=\"2\" valign=\"top\">ENSG00000199217.1</th>\n",
       "      <th>Indel</th>\n",
       "      <td>RNU6-1123P</td>\n",
       "      <td>Pseudogene</td>\n",
       "      <td>106</td>\n",
       "      <td>1</td>\n",
       "      <td>0.009434</td>\n",
       "    </tr>\n",
       "    <tr>\n",
       "      <th>SNV</th>\n",
       "      <td>RNU6-1123P</td>\n",
       "      <td>Pseudogene</td>\n",
       "      <td>106</td>\n",
       "      <td>23</td>\n",
       "      <td>0.216981</td>\n",
       "    </tr>\n",
       "    <tr>\n",
       "      <th>ENSG00000199219.1</th>\n",
       "      <th>Indel</th>\n",
       "      <td>RNU6-500P</td>\n",
       "      <td>Pseudogene</td>\n",
       "      <td>107</td>\n",
       "      <td>3</td>\n",
       "      <td>0.028037</td>\n",
       "    </tr>\n",
       "    <tr>\n",
       "      <th>...</th>\n",
       "      <th>...</th>\n",
       "      <td>...</td>\n",
       "      <td>...</td>\n",
       "      <td>...</td>\n",
       "      <td>...</td>\n",
       "      <td>...</td>\n",
       "    </tr>\n",
       "    <tr>\n",
       "      <th>ENSG00000283575.1</th>\n",
       "      <th>SNV</th>\n",
       "      <td>U6</td>\n",
       "      <td>snRNA</td>\n",
       "      <td>96</td>\n",
       "      <td>35</td>\n",
       "      <td>0.364583</td>\n",
       "    </tr>\n",
       "    <tr>\n",
       "      <th rowspan=\"2\" valign=\"top\">ENSG00000283666.1</th>\n",
       "      <th>Indel</th>\n",
       "      <td>U6</td>\n",
       "      <td>snRNA</td>\n",
       "      <td>103</td>\n",
       "      <td>2</td>\n",
       "      <td>0.019417</td>\n",
       "    </tr>\n",
       "    <tr>\n",
       "      <th>SNV</th>\n",
       "      <td>U6</td>\n",
       "      <td>snRNA</td>\n",
       "      <td>103</td>\n",
       "      <td>20</td>\n",
       "      <td>0.194175</td>\n",
       "    </tr>\n",
       "    <tr>\n",
       "      <th rowspan=\"2\" valign=\"top\">ENSG00000286172.1</th>\n",
       "      <th>Indel</th>\n",
       "      <td>RNVU1-8</td>\n",
       "      <td>snRNA</td>\n",
       "      <td>141</td>\n",
       "      <td>11</td>\n",
       "      <td>0.078014</td>\n",
       "    </tr>\n",
       "    <tr>\n",
       "      <th>SNV</th>\n",
       "      <td>RNVU1-8</td>\n",
       "      <td>snRNA</td>\n",
       "      <td>141</td>\n",
       "      <td>121</td>\n",
       "      <td>0.858156</td>\n",
       "    </tr>\n",
       "  </tbody>\n",
       "</table>\n",
       "<p>3292 rows × 5 columns</p>\n",
       "</div>"
      ],
      "text/plain": [
       "                                   symbol   gene_type  length  n_variants  \\\n",
       "ensg              allele_type                                               \n",
       "ENSG00000194297.2 SNV            RNU1-75P  Pseudogene     129          31   \n",
       "ENSG00000195024.2 SNV            RNU1-15P  Pseudogene     144          32   \n",
       "ENSG00000199217.1 Indel        RNU6-1123P  Pseudogene     106           1   \n",
       "                  SNV          RNU6-1123P  Pseudogene     106          23   \n",
       "ENSG00000199219.1 Indel         RNU6-500P  Pseudogene     107           3   \n",
       "...                                   ...         ...     ...         ...   \n",
       "ENSG00000283575.1 SNV                  U6       snRNA      96          35   \n",
       "ENSG00000283666.1 Indel                U6       snRNA     103           2   \n",
       "                  SNV                  U6       snRNA     103          20   \n",
       "ENSG00000286172.1 Indel           RNVU1-8       snRNA     141          11   \n",
       "                  SNV             RNVU1-8       snRNA     141         121   \n",
       "\n",
       "                               variants_per_nt  \n",
       "ensg              allele_type                   \n",
       "ENSG00000194297.2 SNV                 0.240310  \n",
       "ENSG00000195024.2 SNV                 0.222222  \n",
       "ENSG00000199217.1 Indel               0.009434  \n",
       "                  SNV                 0.216981  \n",
       "ENSG00000199219.1 Indel               0.028037  \n",
       "...                                        ...  \n",
       "ENSG00000283575.1 SNV                 0.364583  \n",
       "ENSG00000283666.1 Indel               0.019417  \n",
       "                  SNV                 0.194175  \n",
       "ENSG00000286172.1 Indel               0.078014  \n",
       "                  SNV                 0.858156  \n",
       "\n",
       "[3292 rows x 5 columns]"
      ]
     },
     "execution_count": 3,
     "metadata": {},
     "output_type": "execute_result"
    }
   ],
   "source": [
    "(\n",
    "    df.groupby([\"ensg\", \"allele_type\"])\n",
    "    .agg(\n",
    "        symbol=(\"symbol\", \"first\"),\n",
    "        gene_type=(\"gene_type\", \"first\"),\n",
    "        length=(\"length\", \"first\"),\n",
    "        n_variants=(\"chrom\", \"count\"),\n",
    "    )\n",
    "    .assign(variants_per_nt=lambda x: x[\"n_variants\"] / x[\"length\"])\n",
    "    .check.info()\n",
    "    .check.head()\n",
    "    .check.write(\"data/final/snrna_variant_counts.tsv\", index=True)\n",
    ")"
   ]
  },
  {
   "cell_type": "markdown",
   "metadata": {},
   "source": [
    "We want:\n",
    "- Gene symbols\n",
    "- Variant types (i.e. indel vs SNV)\n",
    "- Unique variants\n",
    "- snRNA vs Pseudogene\n",
    "- HWE statistics (autosomes only)\n",
    "  - Strongest hits\n",
    "  - Genes with the greatest number of genome-wide significant HWE outliers"
   ]
  }
 ],
 "metadata": {
  "kernelspec": {
   "display_name": "crdg_test",
   "language": "python",
   "name": "python3"
  },
  "language_info": {
   "codemirror_mode": {
    "name": "ipython",
    "version": 3
   },
   "file_extension": ".py",
   "mimetype": "text/x-python",
   "name": "python",
   "nbconvert_exporter": "python",
   "pygments_lexer": "ipython3",
   "version": "3.12.11"
  }
 },
 "nbformat": 4,
 "nbformat_minor": 2
}
