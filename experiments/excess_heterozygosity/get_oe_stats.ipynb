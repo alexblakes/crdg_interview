{
 "cells": [
  {
   "cell_type": "code",
   "execution_count": 1,
   "metadata": {},
   "outputs": [],
   "source": [
    "import pandas as pd\n",
    "import numpy as np\n",
    "from scipy import stats\n",
    "from statsmodels.stats import contingency_tables\n",
    "\n",
    "import src\n",
    "from src import pandas_utils as pdu\n",
    "\n",
    "from experiments.variant_density import parse_gnomad_variants\n",
    "\n",
    "FILE_IN=\"data/interim/gnomad_snrna_variants_tidy_inbreeding_coeff.tsv\"\n",
    "FILE_OUT=\"data/final/gnomad_snrna_variants_hwe_stats.tsv\""
   ]
  },
  {
   "cell_type": "code",
   "execution_count": 2,
   "metadata": {},
   "outputs": [],
   "source": [
    "def per_row_chi2(row):\n",
    "    n_genotypes = row[\"an\"] / 2\n",
    "    obs = row[\"het_obs\"]\n",
    "    obs_remainder = n_genotypes - obs\n",
    "    exp = row[\"het_exp\"]\n",
    "    exp_remainder = n_genotypes - exp\n",
    "\n",
    "    try:\n",
    "        odds_ratio, pval = stats.fisher_exact([[obs, obs_remainder], [exp, exp_remainder]])\n",
    "    except ValueError:\n",
    "        odds_ratio, pval = np.nan, np.nan\n",
    "    \n",
    "    return odds_ratio, pval"
   ]
  },
  {
   "cell_type": "code",
   "execution_count": 3,
   "metadata": {},
   "outputs": [],
   "source": [
    "def per_row_fisher_exact(row):\n",
    "    n_genotypes = row[\"an\"] / 2\n",
    "    obs = row[\"het_obs\"]\n",
    "    obs_remainder = n_genotypes - obs\n",
    "    exp = row[\"het_exp\"]\n",
    "    exp_remainder = n_genotypes - exp\n",
    "\n",
    "    table = [[obs, obs_remainder], [exp, exp_remainder]]\n",
    "    table2x2 = contingency_tables.Table2x2(table)\n",
    "\n",
    "    try:\n",
    "        odds_ratio = table2x2.oddsratio\n",
    "        pval = stats.fisher_exact(table).pvalue\n",
    "    except ValueError:\n",
    "        odds_ratio, pval = np.nan, np.nan\n",
    "    \n",
    "    return odds_ratio, pval"
   ]
  },
  {
   "cell_type": "code",
   "execution_count": 6,
   "metadata": {},
   "outputs": [
    {
     "data": {
      "text/markdown": [
       "<h5 style='text-align: left'><span style='color:None; background-color:None'>Input variants: 29487</span></h5>"
      ],
      "text/plain": [
       "<IPython.core.display.Markdown object>"
      ]
     },
     "metadata": {},
     "output_type": "display_data"
    },
    {
     "data": {
      "text/markdown": [
       "<h5 style='text-align: left'><span style='color:None; background-color:None'>Variants after dropping sex chromosomes: 28716</span></h5>"
      ],
      "text/plain": [
       "<IPython.core.display.Markdown object>"
      ]
     },
     "metadata": {},
     "output_type": "display_data"
    },
    {
     "data": {
      "text/markdown": [
       "<h5 style='text-align: left'><span style='color:None; background-color:None'>Variant counts by filter:</span></h5>"
      ],
      "text/plain": [
       "<IPython.core.display.Markdown object>"
      ]
     },
     "metadata": {},
     "output_type": "display_data"
    },
    {
     "data": {
      "text/html": [
       "<div style=\"margin-left: 30px;\"><style type=\"text/css\">\n",
       "#T_b6002 tr:hover {\n",
       "  background-color: #2986cc;\n",
       "}\n",
       "</style>\n",
       "<table id=\"T_b6002\">\n",
       "  <thead>\n",
       "    <tr>\n",
       "      <th class=\"blank level0\" >&nbsp;</th>\n",
       "      <th id=\"T_b6002_level0_col0\" class=\"col_heading level0 col0\" >count</th>\n",
       "    </tr>\n",
       "    <tr>\n",
       "      <th class=\"index_name level0\" >filter</th>\n",
       "      <th class=\"blank col0\" >&nbsp;</th>\n",
       "    </tr>\n",
       "  </thead>\n",
       "  <tbody>\n",
       "    <tr>\n",
       "      <th id=\"T_b6002_level0_row0\" class=\"row_heading level0 row0\" >PASS</th>\n",
       "      <td id=\"T_b6002_row0_col0\" class=\"data row0 col0\" >28708</td>\n",
       "    </tr>\n",
       "    <tr>\n",
       "      <th id=\"T_b6002_level0_row1\" class=\"row_heading level0 row1\" >InbreedingCoeff</th>\n",
       "      <td id=\"T_b6002_row1_col0\" class=\"data row1 col0\" >8</td>\n",
       "    </tr>\n",
       "  </tbody>\n",
       "</table>\n",
       "</div>"
      ],
      "text/plain": [
       "<IPython.core.display.HTML object>"
      ]
     },
     "metadata": {},
     "output_type": "display_data"
    },
    {
     "data": {
      "text/markdown": [
       "<h5 style='text-align: left'><span style='color:None; background-color:None'>Allele type value counts:</span></h5>"
      ],
      "text/plain": [
       "<IPython.core.display.Markdown object>"
      ]
     },
     "metadata": {},
     "output_type": "display_data"
    },
    {
     "data": {
      "text/html": [
       "<div style=\"margin-left: 30px;\"><style type=\"text/css\">\n",
       "#T_1d7b7 tr:hover {\n",
       "  background-color: #2986cc;\n",
       "}\n",
       "</style>\n",
       "<table id=\"T_1d7b7\">\n",
       "  <thead>\n",
       "    <tr>\n",
       "      <th class=\"blank level0\" >&nbsp;</th>\n",
       "      <th id=\"T_1d7b7_level0_col0\" class=\"col_heading level0 col0\" >count</th>\n",
       "    </tr>\n",
       "    <tr>\n",
       "      <th class=\"index_name level0\" >allele_type</th>\n",
       "      <th class=\"blank col0\" >&nbsp;</th>\n",
       "    </tr>\n",
       "  </thead>\n",
       "  <tbody>\n",
       "    <tr>\n",
       "      <th id=\"T_1d7b7_level0_row0\" class=\"row_heading level0 row0\" >SNV</th>\n",
       "      <td id=\"T_1d7b7_row0_col0\" class=\"data row0 col0\" >28716</td>\n",
       "    </tr>\n",
       "  </tbody>\n",
       "</table>\n",
       "</div>"
      ],
      "text/plain": [
       "<IPython.core.display.HTML object>"
      ]
     },
     "metadata": {},
     "output_type": "display_data"
    },
    {
     "data": {
      "text/markdown": [
       "<h5 style='text-align: left'><span style='color:None; background-color:None'>Gene type value counts:</span></h5>"
      ],
      "text/plain": [
       "<IPython.core.display.Markdown object>"
      ]
     },
     "metadata": {},
     "output_type": "display_data"
    },
    {
     "data": {
      "text/html": [
       "<div style=\"margin-left: 30px;\"><style type=\"text/css\">\n",
       "#T_13c8c tr:hover {\n",
       "  background-color: #2986cc;\n",
       "}\n",
       "</style>\n",
       "<table id=\"T_13c8c\">\n",
       "  <thead>\n",
       "    <tr>\n",
       "      <th class=\"blank level0\" >&nbsp;</th>\n",
       "      <th id=\"T_13c8c_level0_col0\" class=\"col_heading level0 col0\" >count</th>\n",
       "    </tr>\n",
       "    <tr>\n",
       "      <th class=\"index_name level0\" >gene_type</th>\n",
       "      <th class=\"blank col0\" >&nbsp;</th>\n",
       "    </tr>\n",
       "  </thead>\n",
       "  <tbody>\n",
       "    <tr>\n",
       "      <th id=\"T_13c8c_level0_row0\" class=\"row_heading level0 row0\" >Pseudogene</th>\n",
       "      <td id=\"T_13c8c_row0_col0\" class=\"data row0 col0\" >1652</td>\n",
       "    </tr>\n",
       "    <tr>\n",
       "      <th id=\"T_13c8c_level0_row1\" class=\"row_heading level0 row1\" >snRNA</th>\n",
       "      <td id=\"T_13c8c_row1_col0\" class=\"data row1 col0\" >109</td>\n",
       "    </tr>\n",
       "  </tbody>\n",
       "</table>\n",
       "</div>"
      ],
      "text/plain": [
       "<IPython.core.display.HTML object>"
      ]
     },
     "metadata": {},
     "output_type": "display_data"
    },
    {
     "data": {
      "text/markdown": [
       "<h5 style='text-align: left'><span style='color:None; background-color:None'>Duplicate variants: 0</span></h5>"
      ],
      "text/plain": [
       "<IPython.core.display.Markdown object>"
      ]
     },
     "metadata": {},
     "output_type": "display_data"
    },
    {
     "data": {
      "text/markdown": [
       "<h5 style='text-align: left'><span style='color:None; background-color:None'>Number of variants: 28716</span></h5>"
      ],
      "text/plain": [
       "<IPython.core.display.Markdown object>"
      ]
     },
     "metadata": {},
     "output_type": "display_data"
    },
    {
     "data": {
      "text/markdown": [
       "<h5 style='text-align: left'><span style='color:None; background-color:None'>Number of genes: 1761</span></h5>"
      ],
      "text/plain": [
       "<IPython.core.display.Markdown object>"
      ]
     },
     "metadata": {},
     "output_type": "display_data"
    },
    {
     "data": {
      "text/markdown": [
       "<h5 style='text-align: left'><span style='color:black; background-color:green'>Pass assert: all AC > 0</span></h5>"
      ],
      "text/plain": [
       "<IPython.core.display.Markdown object>"
      ]
     },
     "metadata": {},
     "output_type": "display_data"
    },
    {
     "data": {
      "text/markdown": [
       "<h5 style='text-align: left'><span style='color:None; background-color:None'>Duplicate gene symbols, different ENSG IDs:</span></h5>"
      ],
      "text/plain": [
       "<IPython.core.display.Markdown object>"
      ]
     },
     "metadata": {},
     "output_type": "display_data"
    },
    {
     "data": {
      "text/html": [
       "<div style=\"margin-left: 30px;\"><style type=\"text/css\">\n",
       "#T_329b2 tr:hover {\n",
       "  background-color: #2986cc;\n",
       "}\n",
       "</style>\n",
       "<table id=\"T_329b2\">\n",
       "  <thead>\n",
       "    <tr>\n",
       "      <th class=\"blank level0\" >&nbsp;</th>\n",
       "      <th id=\"T_329b2_level0_col0\" class=\"col_heading level0 col0\" >count</th>\n",
       "    </tr>\n",
       "    <tr>\n",
       "      <th class=\"index_name level0\" >symbol</th>\n",
       "      <th class=\"blank col0\" >&nbsp;</th>\n",
       "    </tr>\n",
       "  </thead>\n",
       "  <tbody>\n",
       "    <tr>\n",
       "      <th id=\"T_329b2_level0_row0\" class=\"row_heading level0 row0\" >U6</th>\n",
       "      <td id=\"T_329b2_row0_col0\" class=\"data row0 col0\" >30</td>\n",
       "    </tr>\n",
       "    <tr>\n",
       "      <th id=\"T_329b2_level0_row1\" class=\"row_heading level0 row1\" >U2</th>\n",
       "      <td id=\"T_329b2_row1_col0\" class=\"data row1 col0\" >11</td>\n",
       "    </tr>\n",
       "    <tr>\n",
       "      <th id=\"T_329b2_level0_row2\" class=\"row_heading level0 row2\" >U4</th>\n",
       "      <td id=\"T_329b2_row2_col0\" class=\"data row2 col0\" >7</td>\n",
       "    </tr>\n",
       "    <tr>\n",
       "      <th id=\"T_329b2_level0_row3\" class=\"row_heading level0 row3\" >U7</th>\n",
       "      <td id=\"T_329b2_row3_col0\" class=\"data row3 col0\" >6</td>\n",
       "    </tr>\n",
       "    <tr>\n",
       "      <th id=\"T_329b2_level0_row4\" class=\"row_heading level0 row4\" >U1</th>\n",
       "      <td id=\"T_329b2_row4_col0\" class=\"data row4 col0\" >3</td>\n",
       "    </tr>\n",
       "  </tbody>\n",
       "</table>\n",
       "</div>"
      ],
      "text/plain": [
       "<IPython.core.display.HTML object>"
      ]
     },
     "metadata": {},
     "output_type": "display_data"
    },
    {
     "data": {
      "text/markdown": [
       "<h5 style='text-align: left'><span style='color:None; background-color:None'>ENSG IDs on multiple chromosomes:</span></h5>"
      ],
      "text/plain": [
       "<IPython.core.display.Markdown object>"
      ]
     },
     "metadata": {},
     "output_type": "display_data"
    },
    {
     "data": {
      "text/html": [
       "<div style=\"margin-left: 30px;\"><style type=\"text/css\">\n",
       "#T_e4070 tr:hover {\n",
       "  background-color: #2986cc;\n",
       "}\n",
       "</style>\n",
       "<table id=\"T_e4070\">\n",
       "  <thead>\n",
       "    <tr>\n",
       "      <th class=\"blank level0\" >&nbsp;</th>\n",
       "      <th id=\"T_e4070_level0_col0\" class=\"col_heading level0 col0\" >chrom</th>\n",
       "      <th id=\"T_e4070_level0_col1\" class=\"col_heading level0 col1\" >ensg</th>\n",
       "    </tr>\n",
       "  </thead>\n",
       "  <tbody>\n",
       "  </tbody>\n",
       "</table>\n",
       "</div>"
      ],
      "text/plain": [
       "<IPython.core.display.HTML object>"
      ]
     },
     "metadata": {},
     "output_type": "display_data"
    },
    {
     "data": {
      "text/markdown": [
       "<h5 style='text-align: left'><span style='color:None; background-color:None'>Variants with valid \"het_exp\" values: : 28683</span></h5>"
      ],
      "text/plain": [
       "<IPython.core.display.Markdown object>"
      ]
     },
     "metadata": {},
     "output_type": "display_data"
    },
    {
     "data": {
      "text/markdown": [
       "<h5 style='text-align: left'><span style='color:None; background-color:None'>Variants with valid chi squared P values:: 28683</span></h5>"
      ],
      "text/plain": [
       "<IPython.core.display.Markdown object>"
      ]
     },
     "metadata": {},
     "output_type": "display_data"
    },
    {
     "data": {
      "text/markdown": [
       "<h5 style='text-align: left'><span style='color:None; background-color:None'>Bonferroni significance threshold = 1.74e-06</span></h5>"
      ],
      "text/plain": [
       "<IPython.core.display.Markdown object>"
      ]
     },
     "metadata": {},
     "output_type": "display_data"
    },
    {
     "data": {
      "text/markdown": [
       "<h5 style='text-align: left'><span style='color:None; background-color:None'>Number of Bonferroni-significant variants:: 210</span></h5>"
      ],
      "text/plain": [
       "<IPython.core.display.Markdown object>"
      ]
     },
     "metadata": {},
     "output_type": "display_data"
    }
   ],
   "source": [
    "df = (\n",
    "    pd.read_csv(FILE_IN, sep=\"\\t\")\n",
    "    .check.nrows(check_name=\"Input variants\")\n",
    "    .loc[lambda x: ~x[\"chrom\"].isin([\"chrX\", \"chrY\"])]\n",
    "    .check.nrows(check_name=\"Variants after dropping sex chromosomes\")\n",
    "    .check.value_counts(\"filter\", check_name=\"Variant counts by filter:\")\n",
    "    .pipe(parse_gnomad_variants.parse_gnomad_variants)\n",
    "    .loc[\n",
    "        :,\n",
    "        [\n",
    "            \"chrom\",\n",
    "            \"pos\",\n",
    "            \"ref\",\n",
    "            \"alt\",\n",
    "            \"ac\",\n",
    "            \"an\",\n",
    "            \"af\",\n",
    "            \"nhomalt\",\n",
    "            \"allele_type\",\n",
    "            \"coi\",\n",
    "            \"symbol\",\n",
    "            \"ensg\",\n",
    "            \"gene_type\",\n",
    "        ],\n",
    "    ]\n",
    "    .assign(\n",
    "        oe=lambda x: 1 - x[\"coi\"],\n",
    "        het_obs=lambda x: x[\"ac\"] - 2 * x[\"nhomalt\"],\n",
    "        het_exp=lambda x: x[\"het_obs\"] / x[\"oe\"],\n",
    "    )\n",
    "    .check.function(\n",
    "        lambda x: x[\"het_exp\"].dropna().shape[0],\n",
    "        check_name='Variants with valid \"het_exp\" values: ',\n",
    "    )\n",
    "    .pipe(pdu.assign_with_per_row_fn, per_row_fisher_exact, new_cols=[\"odds_ratio\", \"p_val\"])\n",
    "    .dropna(subset=\"p_val\")\n",
    "    .check.nrows(check_name=\"Variants with valid chi squared P values:\")\n",
    "    .check.function(\n",
    "        lambda x: f\"Bonferroni significance threshold = {0.05 / len(x):.2e}\"\n",
    "    )\n",
    "    .sort_values(\"oe\", ascending=False)  # Important for ranking\n",
    "    .assign(\n",
    "        bfr_sig=lambda x: np.where(x[\"p_val\"] < 0.05 / len(x), True, False),\n",
    "        rank_oe=lambda x: x[\"oe\"].rank(ascending=False, method=\"first\").astype(int),\n",
    "        rank_p=lambda x: x[\"p_val\"]\n",
    "        .rank(ascending=True, method=\"first\")\n",
    "        .astype(int),\n",
    "    )\n",
    "    .check.function(lambda x: x[\"bfr_sig\"].sum(), check_name=\"Number of Bonferroni-significant variants:\")\n",
    "    .check.write(FILE_OUT, index=False)\n",
    ")"
   ]
  }
 ],
 "metadata": {
  "kernelspec": {
   "display_name": "crdg_test",
   "language": "python",
   "name": "python3"
  },
  "language_info": {
   "codemirror_mode": {
    "name": "ipython",
    "version": 3
   },
   "file_extension": ".py",
   "mimetype": "text/x-python",
   "name": "python",
   "nbconvert_exporter": "python",
   "pygments_lexer": "ipython3",
   "version": "3.12.11"
  }
 },
 "nbformat": 4,
 "nbformat_minor": 2
}
