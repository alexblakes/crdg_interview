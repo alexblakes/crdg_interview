{
 "cells": [
  {
   "cell_type": "code",
   "execution_count": 2,
   "metadata": {},
   "outputs": [],
   "source": [
    "import pandas as pd\n",
    "import numpy as np\n",
    "import matplotlib.pyplot as plt\n",
    "from scipy import stats\n",
    "import src\n",
    "\n",
    "FILE_IN=\"data/final/gnomad_snrna_variants_hwe_stats.tsv\""
   ]
  },
  {
   "cell_type": "code",
   "execution_count": 3,
   "metadata": {},
   "outputs": [
    {
     "data": {
      "text/markdown": [
       "<h5 style='text-align: left'><span style='color:None; background-color:None'>Shape: (52593, 21)</span></h5>"
      ],
      "text/plain": [
       "<IPython.core.display.Markdown object>"
      ]
     },
     "metadata": {},
     "output_type": "display_data"
    },
    {
     "data": {
      "text/markdown": [
       "<h5 style='text-align: left'><span style='color:None; background-color:None'>First 5 rows</span></h5>"
      ],
      "text/plain": [
       "<IPython.core.display.Markdown object>"
      ]
     },
     "metadata": {},
     "output_type": "display_data"
    },
    {
     "data": {
      "text/html": [
       "<div style=\"margin-left: 30px;\"><style type=\"text/css\">\n",
       "#T_7914c tr:hover {\n",
       "  background-color: #2986cc;\n",
       "}\n",
       "</style>\n",
       "<table id=\"T_7914c\">\n",
       "  <thead>\n",
       "    <tr>\n",
       "      <th class=\"blank level0\" >&nbsp;</th>\n",
       "      <th id=\"T_7914c_level0_col0\" class=\"col_heading level0 col0\" >chrom</th>\n",
       "      <th id=\"T_7914c_level0_col1\" class=\"col_heading level0 col1\" >pos</th>\n",
       "      <th id=\"T_7914c_level0_col2\" class=\"col_heading level0 col2\" >ref</th>\n",
       "      <th id=\"T_7914c_level0_col3\" class=\"col_heading level0 col3\" >alt</th>\n",
       "      <th id=\"T_7914c_level0_col4\" class=\"col_heading level0 col4\" >ac</th>\n",
       "      <th id=\"T_7914c_level0_col5\" class=\"col_heading level0 col5\" >an</th>\n",
       "      <th id=\"T_7914c_level0_col6\" class=\"col_heading level0 col6\" >af</th>\n",
       "      <th id=\"T_7914c_level0_col7\" class=\"col_heading level0 col7\" >nhomalt</th>\n",
       "      <th id=\"T_7914c_level0_col8\" class=\"col_heading level0 col8\" >allele_type</th>\n",
       "      <th id=\"T_7914c_level0_col9\" class=\"col_heading level0 col9\" >coi</th>\n",
       "      <th id=\"T_7914c_level0_col10\" class=\"col_heading level0 col10\" >symbol</th>\n",
       "      <th id=\"T_7914c_level0_col11\" class=\"col_heading level0 col11\" >ensg</th>\n",
       "      <th id=\"T_7914c_level0_col12\" class=\"col_heading level0 col12\" >gene_type</th>\n",
       "      <th id=\"T_7914c_level0_col13\" class=\"col_heading level0 col13\" >oe</th>\n",
       "      <th id=\"T_7914c_level0_col14\" class=\"col_heading level0 col14\" >het_obs</th>\n",
       "      <th id=\"T_7914c_level0_col15\" class=\"col_heading level0 col15\" >het_exp</th>\n",
       "      <th id=\"T_7914c_level0_col16\" class=\"col_heading level0 col16\" >chi2</th>\n",
       "      <th id=\"T_7914c_level0_col17\" class=\"col_heading level0 col17\" >chi2_pval</th>\n",
       "      <th id=\"T_7914c_level0_col18\" class=\"col_heading level0 col18\" >bfr_sig</th>\n",
       "      <th id=\"T_7914c_level0_col19\" class=\"col_heading level0 col19\" >rank_oe</th>\n",
       "      <th id=\"T_7914c_level0_col20\" class=\"col_heading level0 col20\" >rank_p</th>\n",
       "    </tr>\n",
       "  </thead>\n",
       "  <tbody>\n",
       "    <tr>\n",
       "      <th id=\"T_7914c_level0_row0\" class=\"row_heading level0 row0\" >0</th>\n",
       "      <td id=\"T_7914c_row0_col0\" class=\"data row0 col0\" >chr22</td>\n",
       "      <td id=\"T_7914c_row0_col1\" class=\"data row0 col1\" >10736274</td>\n",
       "      <td id=\"T_7914c_row0_col2\" class=\"data row0 col2\" >G</td>\n",
       "      <td id=\"T_7914c_row0_col3\" class=\"data row0 col3\" >T</td>\n",
       "      <td id=\"T_7914c_row0_col4\" class=\"data row0 col4\" >74963</td>\n",
       "      <td id=\"T_7914c_row0_col5\" class=\"data row0 col5\" >149986</td>\n",
       "      <td id=\"T_7914c_row0_col6\" class=\"data row0 col6\" >0.500</td>\n",
       "      <td id=\"T_7914c_row0_col7\" class=\"data row0 col7\" >0</td>\n",
       "      <td id=\"T_7914c_row0_col8\" class=\"data row0 col8\" >SNV</td>\n",
       "      <td id=\"T_7914c_row0_col9\" class=\"data row0 col9\" >-0.999</td>\n",
       "      <td id=\"T_7914c_row0_col10\" class=\"data row0 col10\" >U2</td>\n",
       "      <td id=\"T_7914c_row0_col11\" class=\"data row0 col11\" >ENSG00000277248.1</td>\n",
       "      <td id=\"T_7914c_row0_col12\" class=\"data row0 col12\" >snRNA</td>\n",
       "      <td id=\"T_7914c_row0_col13\" class=\"data row0 col13\" >1.999</td>\n",
       "      <td id=\"T_7914c_row0_col14\" class=\"data row0 col14\" >74963</td>\n",
       "      <td id=\"T_7914c_row0_col15\" class=\"data row0 col15\" >37496.255</td>\n",
       "      <td id=\"T_7914c_row0_col16\" class=\"data row0 col16\" >49916.236</td>\n",
       "      <td id=\"T_7914c_row0_col17\" class=\"data row0 col17\" >0.000</td>\n",
       "      <td id=\"T_7914c_row0_col18\" class=\"data row0 col18\" >True</td>\n",
       "      <td id=\"T_7914c_row0_col19\" class=\"data row0 col19\" >1</td>\n",
       "      <td id=\"T_7914c_row0_col20\" class=\"data row0 col20\" >1</td>\n",
       "    </tr>\n",
       "    <tr>\n",
       "      <th id=\"T_7914c_level0_row1\" class=\"row_heading level0 row1\" >1</th>\n",
       "      <td id=\"T_7914c_row1_col0\" class=\"data row1 col0\" >chr22</td>\n",
       "      <td id=\"T_7914c_row1_col1\" class=\"data row1 col1\" >10736246</td>\n",
       "      <td id=\"T_7914c_row1_col2\" class=\"data row1 col2\" >T</td>\n",
       "      <td id=\"T_7914c_row1_col3\" class=\"data row1 col3\" >C</td>\n",
       "      <td id=\"T_7914c_row1_col4\" class=\"data row1 col4\" >33678</td>\n",
       "      <td id=\"T_7914c_row1_col5\" class=\"data row1 col5\" >82306</td>\n",
       "      <td id=\"T_7914c_row1_col6\" class=\"data row1 col6\" >0.409</td>\n",
       "      <td id=\"T_7914c_row1_col7\" class=\"data row1 col7\" >0</td>\n",
       "      <td id=\"T_7914c_row1_col8\" class=\"data row1 col8\" >SNV</td>\n",
       "      <td id=\"T_7914c_row1_col9\" class=\"data row1 col9\" >-0.813</td>\n",
       "      <td id=\"T_7914c_row1_col10\" class=\"data row1 col10\" >U2</td>\n",
       "      <td id=\"T_7914c_row1_col11\" class=\"data row1 col11\" >ENSG00000277248.1</td>\n",
       "      <td id=\"T_7914c_row1_col12\" class=\"data row1 col12\" >snRNA</td>\n",
       "      <td id=\"T_7914c_row1_col13\" class=\"data row1 col13\" >1.813</td>\n",
       "      <td id=\"T_7914c_row1_col14\" class=\"data row1 col14\" >33678</td>\n",
       "      <td id=\"T_7914c_row1_col15\" class=\"data row1 col15\" >18577.501</td>\n",
       "      <td id=\"T_7914c_row1_col16\" class=\"data row1 col16\" >15852.330</td>\n",
       "      <td id=\"T_7914c_row1_col17\" class=\"data row1 col17\" >0.000</td>\n",
       "      <td id=\"T_7914c_row1_col18\" class=\"data row1 col18\" >True</td>\n",
       "      <td id=\"T_7914c_row1_col19\" class=\"data row1 col19\" >2</td>\n",
       "      <td id=\"T_7914c_row1_col20\" class=\"data row1 col20\" >2</td>\n",
       "    </tr>\n",
       "    <tr>\n",
       "      <th id=\"T_7914c_level0_row2\" class=\"row_heading level0 row2\" >2</th>\n",
       "      <td id=\"T_7914c_row2_col0\" class=\"data row2 col0\" >chr22</td>\n",
       "      <td id=\"T_7914c_row2_col1\" class=\"data row2 col1\" >10736174</td>\n",
       "      <td id=\"T_7914c_row2_col2\" class=\"data row2 col2\" >G</td>\n",
       "      <td id=\"T_7914c_row2_col3\" class=\"data row2 col3\" >A</td>\n",
       "      <td id=\"T_7914c_row2_col4\" class=\"data row2 col4\" >32745</td>\n",
       "      <td id=\"T_7914c_row2_col5\" class=\"data row2 col5\" >81372</td>\n",
       "      <td id=\"T_7914c_row2_col6\" class=\"data row2 col6\" >0.402</td>\n",
       "      <td id=\"T_7914c_row2_col7\" class=\"data row2 col7\" >0</td>\n",
       "      <td id=\"T_7914c_row2_col8\" class=\"data row2 col8\" >SNV</td>\n",
       "      <td id=\"T_7914c_row2_col9\" class=\"data row2 col9\" >-0.804</td>\n",
       "      <td id=\"T_7914c_row2_col10\" class=\"data row2 col10\" >U2</td>\n",
       "      <td id=\"T_7914c_row2_col11\" class=\"data row2 col11\" >ENSG00000277248.1</td>\n",
       "      <td id=\"T_7914c_row2_col12\" class=\"data row2 col12\" >snRNA</td>\n",
       "      <td id=\"T_7914c_row2_col13\" class=\"data row2 col13\" >1.804</td>\n",
       "      <td id=\"T_7914c_row2_col14\" class=\"data row2 col14\" >32745</td>\n",
       "      <td id=\"T_7914c_row2_col15\" class=\"data row2 col15\" >18156.171</td>\n",
       "      <td id=\"T_7914c_row2_col16\" class=\"data row2 col16\" >15089.183</td>\n",
       "      <td id=\"T_7914c_row2_col17\" class=\"data row2 col17\" >0.000</td>\n",
       "      <td id=\"T_7914c_row2_col18\" class=\"data row2 col18\" >True</td>\n",
       "      <td id=\"T_7914c_row2_col19\" class=\"data row2 col19\" >3</td>\n",
       "      <td id=\"T_7914c_row2_col20\" class=\"data row2 col20\" >3</td>\n",
       "    </tr>\n",
       "    <tr>\n",
       "      <th id=\"T_7914c_level0_row3\" class=\"row_heading level0 row3\" >3</th>\n",
       "      <td id=\"T_7914c_row3_col0\" class=\"data row3 col0\" >chr21</td>\n",
       "      <td id=\"T_7914c_row3_col1\" class=\"data row3 col1\" >9646988</td>\n",
       "      <td id=\"T_7914c_row3_col2\" class=\"data row3 col2\" >A</td>\n",
       "      <td id=\"T_7914c_row3_col3\" class=\"data row3 col3\" >G</td>\n",
       "      <td id=\"T_7914c_row3_col4\" class=\"data row3 col4\" >49855</td>\n",
       "      <td id=\"T_7914c_row3_col5\" class=\"data row3 col5\" >118206</td>\n",
       "      <td id=\"T_7914c_row3_col6\" class=\"data row3 col6\" >0.422</td>\n",
       "      <td id=\"T_7914c_row3_col7\" class=\"data row3 col7\" >90</td>\n",
       "      <td id=\"T_7914c_row3_col8\" class=\"data row3 col8\" >SNV</td>\n",
       "      <td id=\"T_7914c_row3_col9\" class=\"data row3 col9\" >-0.775</td>\n",
       "      <td id=\"T_7914c_row3_col10\" class=\"data row3 col10\" >U1</td>\n",
       "      <td id=\"T_7914c_row3_col11\" class=\"data row3 col11\" >ENSG00000275631.1</td>\n",
       "      <td id=\"T_7914c_row3_col12\" class=\"data row3 col12\" >snRNA</td>\n",
       "      <td id=\"T_7914c_row3_col13\" class=\"data row3 col13\" >1.775</td>\n",
       "      <td id=\"T_7914c_row3_col14\" class=\"data row3 col14\" >49675</td>\n",
       "      <td id=\"T_7914c_row3_col15\" class=\"data row3 col15\" >27979.594</td>\n",
       "      <td id=\"T_7914c_row3_col16\" class=\"data row3 col16\" >22039.412</td>\n",
       "      <td id=\"T_7914c_row3_col17\" class=\"data row3 col17\" >0.000</td>\n",
       "      <td id=\"T_7914c_row3_col18\" class=\"data row3 col18\" >True</td>\n",
       "      <td id=\"T_7914c_row3_col19\" class=\"data row3 col19\" >4</td>\n",
       "      <td id=\"T_7914c_row3_col20\" class=\"data row3 col20\" >4</td>\n",
       "    </tr>\n",
       "    <tr>\n",
       "      <th id=\"T_7914c_level0_row4\" class=\"row_heading level0 row4\" >4</th>\n",
       "      <td id=\"T_7914c_row4_col0\" class=\"data row4 col0\" >chr22</td>\n",
       "      <td id=\"T_7914c_row4_col1\" class=\"data row4 col1\" >10736173</td>\n",
       "      <td id=\"T_7914c_row4_col2\" class=\"data row4 col2\" >G</td>\n",
       "      <td id=\"T_7914c_row4_col3\" class=\"data row4 col3\" >T</td>\n",
       "      <td id=\"T_7914c_row4_col4\" class=\"data row4 col4\" >25899</td>\n",
       "      <td id=\"T_7914c_row4_col5\" class=\"data row4 col5\" >77098</td>\n",
       "      <td id=\"T_7914c_row4_col6\" class=\"data row4 col6\" >0.336</td>\n",
       "      <td id=\"T_7914c_row4_col7\" class=\"data row4 col7\" >0</td>\n",
       "      <td id=\"T_7914c_row4_col8\" class=\"data row4 col8\" >SNV</td>\n",
       "      <td id=\"T_7914c_row4_col9\" class=\"data row4 col9\" >-0.677</td>\n",
       "      <td id=\"T_7914c_row4_col10\" class=\"data row4 col10\" >U2</td>\n",
       "      <td id=\"T_7914c_row4_col11\" class=\"data row4 col11\" >ENSG00000277248.1</td>\n",
       "      <td id=\"T_7914c_row4_col12\" class=\"data row4 col12\" >snRNA</td>\n",
       "      <td id=\"T_7914c_row4_col13\" class=\"data row4 col13\" >1.677</td>\n",
       "      <td id=\"T_7914c_row4_col14\" class=\"data row4 col14\" >25899</td>\n",
       "      <td id=\"T_7914c_row4_col15\" class=\"data row4 col15\" >15445.068</td>\n",
       "      <td id=\"T_7914c_row4_col16\" class=\"data row4 col16\" >8848.281</td>\n",
       "      <td id=\"T_7914c_row4_col17\" class=\"data row4 col17\" >0.000</td>\n",
       "      <td id=\"T_7914c_row4_col18\" class=\"data row4 col18\" >True</td>\n",
       "      <td id=\"T_7914c_row4_col19\" class=\"data row4 col19\" >5</td>\n",
       "      <td id=\"T_7914c_row4_col20\" class=\"data row4 col20\" >5</td>\n",
       "    </tr>\n",
       "  </tbody>\n",
       "</table>\n",
       "</div>"
      ],
      "text/plain": [
       "<IPython.core.display.HTML object>"
      ]
     },
     "metadata": {},
     "output_type": "display_data"
    }
   ],
   "source": [
    "df = pd.read_csv(FILE_IN, sep=\"\\t\").check.shape().check.head()"
   ]
  },
  {
   "cell_type": "code",
   "execution_count": 7,
   "metadata": {},
   "outputs": [
    {
     "data": {
      "text/plain": [
       "<matplotlib.legend.Legend at 0x7f813f90f500>"
      ]
     },
     "execution_count": 7,
     "metadata": {},
     "output_type": "execute_result"
    },
    {
     "data": {
      "image/png": "[encoded data removed]",
      "text/plain": [
       "<Figure size 236.22x236.22 with 1 Axes>"
      ]
     },
     "metadata": {},
     "output_type": "display_data"
    }
   ],
   "source": [
    "plt.style.use(\"src/default.mpltstyle\")\n",
    "\n",
    "fig, ax = plt.subplots(figsize=(6/2.54,6/2.54), layout=\"constrained\")\n",
    "\n",
    "dfg = df.groupby(\"gene_type\")\n",
    "snrna_color=plt.colormaps[\"Blues\"](0.8)\n",
    "pseudo_color=\"grey\"\n",
    "colors= [pseudo_color, snrna_color]\n",
    "\n",
    "for (label, data), color in zip(dfg, colors):\n",
    "    x = data[\"af\"]\n",
    "    ax.ecdf(x, color=color, label=label)\n",
    "\n",
    "ax.set_xscale(\"log\")\n",
    "ax.legend(loc=\"best\")"
   ]
  },
  {
   "cell_type": "code",
   "execution_count": 5,
   "metadata": {},
   "outputs": [
    {
     "data": {
      "text/html": [
       "<div>\n",
       "<style scoped>\n",
       "    .dataframe tbody tr th:only-of-type {\n",
       "        vertical-align: middle;\n",
       "    }\n",
       "\n",
       "    .dataframe tbody tr th {\n",
       "        vertical-align: top;\n",
       "    }\n",
       "\n",
       "    .dataframe thead th {\n",
       "        text-align: right;\n",
       "    }\n",
       "</style>\n",
       "<table border=\"1\" class=\"dataframe\">\n",
       "  <thead>\n",
       "    <tr style=\"text-align: right;\">\n",
       "      <th></th>\n",
       "      <th>n_singletons</th>\n",
       "      <th>n_variants</th>\n",
       "      <th>proportion_singletons</th>\n",
       "    </tr>\n",
       "    <tr>\n",
       "      <th>gene_type</th>\n",
       "      <th></th>\n",
       "      <th></th>\n",
       "      <th></th>\n",
       "    </tr>\n",
       "  </thead>\n",
       "  <tbody>\n",
       "    <tr>\n",
       "      <th>Pseudogene</th>\n",
       "      <td>21564</td>\n",
       "      <td>42857</td>\n",
       "      <td>0.503162</td>\n",
       "    </tr>\n",
       "    <tr>\n",
       "      <th>snRNA</th>\n",
       "      <td>3449</td>\n",
       "      <td>9736</td>\n",
       "      <td>0.354252</td>\n",
       "    </tr>\n",
       "  </tbody>\n",
       "</table>\n",
       "</div>"
      ],
      "text/plain": [
       "            n_singletons  n_variants  proportion_singletons\n",
       "gene_type                                                  \n",
       "Pseudogene         21564       42857               0.503162\n",
       "snRNA               3449        9736               0.354252"
      ]
     },
     "execution_count": 5,
     "metadata": {},
     "output_type": "execute_result"
    }
   ],
   "source": [
    "df.groupby(\"gene_type\").agg(\n",
    "    n_singletons=(\"ac\", lambda x: (x == 1).sum()), n_variants=(\"ac\", \"size\")\n",
    ").assign(proportion_singletons=lambda x: x[\"n_singletons\"] / x[\"n_variants\"])"
   ]
  }
 ],
 "metadata": {
  "kernelspec": {
   "display_name": "crdg_test",
   "language": "python",
   "name": "python3"
  },
  "language_info": {
   "codemirror_mode": {
    "name": "ipython",
    "version": 3
   },
   "file_extension": ".py",
   "mimetype": "text/x-python",
   "name": "python",
   "nbconvert_exporter": "python",
   "pygments_lexer": "ipython3",
   "version": "3.12.11"
  }
 },
 "nbformat": 4,
 "nbformat_minor": 2
}
