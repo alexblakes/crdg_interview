{
 "cells": [
  {
   "cell_type": "code",
   "execution_count": 3,
   "metadata": {},
   "outputs": [],
   "source": [
    "import pandas as pd\n",
    "import numpy as np\n",
    "import matplotlib.pyplot as plt\n",
    "\n",
    "import src\n",
    "\n",
    "FILE_IN=\"data/final/gnomad_snrna_variants_hwe_stats.tsv\""
   ]
  },
  {
   "cell_type": "code",
   "execution_count": 4,
   "metadata": {},
   "outputs": [
    {
     "data": {
      "text/markdown": [
       "<h5 style='text-align: left'><span style='color:None; background-color:None'>First 5 rows</span></h5>"
      ],
      "text/plain": [
       "<IPython.core.display.Markdown object>"
      ]
     },
     "metadata": {},
     "output_type": "display_data"
    },
    {
     "data": {
      "text/html": [
       "<div style=\"margin-left: 30px;\"><style type=\"text/css\">\n",
       "#T_c3b15 tr:hover {\n",
       "  background-color: #2986cc;\n",
       "}\n",
       "</style>\n",
       "<table id=\"T_c3b15\">\n",
       "  <thead>\n",
       "    <tr>\n",
       "      <th class=\"blank level0\" >&nbsp;</th>\n",
       "      <th id=\"T_c3b15_level0_col0\" class=\"col_heading level0 col0\" >Unnamed: 0</th>\n",
       "      <th id=\"T_c3b15_level0_col1\" class=\"col_heading level0 col1\" >chrom</th>\n",
       "      <th id=\"T_c3b15_level0_col2\" class=\"col_heading level0 col2\" >pos</th>\n",
       "      <th id=\"T_c3b15_level0_col3\" class=\"col_heading level0 col3\" >ref</th>\n",
       "      <th id=\"T_c3b15_level0_col4\" class=\"col_heading level0 col4\" >alt</th>\n",
       "      <th id=\"T_c3b15_level0_col5\" class=\"col_heading level0 col5\" >allele_type</th>\n",
       "      <th id=\"T_c3b15_level0_col6\" class=\"col_heading level0 col6\" >symbol</th>\n",
       "      <th id=\"T_c3b15_level0_col7\" class=\"col_heading level0 col7\" >gene_type</th>\n",
       "      <th id=\"T_c3b15_level0_col8\" class=\"col_heading level0 col8\" >oe</th>\n",
       "      <th id=\"T_c3b15_level0_col9\" class=\"col_heading level0 col9\" >het_obs</th>\n",
       "      <th id=\"T_c3b15_level0_col10\" class=\"col_heading level0 col10\" >het_exp</th>\n",
       "      <th id=\"T_c3b15_level0_col11\" class=\"col_heading level0 col11\" >chi2_pval</th>\n",
       "      <th id=\"T_c3b15_level0_col12\" class=\"col_heading level0 col12\" >bfr_sig</th>\n",
       "      <th id=\"T_c3b15_level0_col13\" class=\"col_heading level0 col13\" >rank_oe</th>\n",
       "      <th id=\"T_c3b15_level0_col14\" class=\"col_heading level0 col14\" >rank_p</th>\n",
       "    </tr>\n",
       "  </thead>\n",
       "  <tbody>\n",
       "    <tr>\n",
       "      <th id=\"T_c3b15_level0_row0\" class=\"row_heading level0 row0\" >0</th>\n",
       "      <td id=\"T_c3b15_row0_col0\" class=\"data row0 col0\" >51872</td>\n",
       "      <td id=\"T_c3b15_row0_col1\" class=\"data row0 col1\" >chr22</td>\n",
       "      <td id=\"T_c3b15_row0_col2\" class=\"data row0 col2\" >10736274</td>\n",
       "      <td id=\"T_c3b15_row0_col3\" class=\"data row0 col3\" >G</td>\n",
       "      <td id=\"T_c3b15_row0_col4\" class=\"data row0 col4\" >T</td>\n",
       "      <td id=\"T_c3b15_row0_col5\" class=\"data row0 col5\" >SNV</td>\n",
       "      <td id=\"T_c3b15_row0_col6\" class=\"data row0 col6\" >U2</td>\n",
       "      <td id=\"T_c3b15_row0_col7\" class=\"data row0 col7\" >snRNA</td>\n",
       "      <td id=\"T_c3b15_row0_col8\" class=\"data row0 col8\" >1.999</td>\n",
       "      <td id=\"T_c3b15_row0_col9\" class=\"data row0 col9\" >74963</td>\n",
       "      <td id=\"T_c3b15_row0_col10\" class=\"data row0 col10\" >37496.255</td>\n",
       "      <td id=\"T_c3b15_row0_col11\" class=\"data row0 col11\" >0.000</td>\n",
       "      <td id=\"T_c3b15_row0_col12\" class=\"data row0 col12\" >True</td>\n",
       "      <td id=\"T_c3b15_row0_col13\" class=\"data row0 col13\" >1</td>\n",
       "      <td id=\"T_c3b15_row0_col14\" class=\"data row0 col14\" >1</td>\n",
       "    </tr>\n",
       "    <tr>\n",
       "      <th id=\"T_c3b15_level0_row1\" class=\"row_heading level0 row1\" >1</th>\n",
       "      <td id=\"T_c3b15_row1_col0\" class=\"data row1 col0\" >51870</td>\n",
       "      <td id=\"T_c3b15_row1_col1\" class=\"data row1 col1\" >chr22</td>\n",
       "      <td id=\"T_c3b15_row1_col2\" class=\"data row1 col2\" >10736246</td>\n",
       "      <td id=\"T_c3b15_row1_col3\" class=\"data row1 col3\" >T</td>\n",
       "      <td id=\"T_c3b15_row1_col4\" class=\"data row1 col4\" >C</td>\n",
       "      <td id=\"T_c3b15_row1_col5\" class=\"data row1 col5\" >SNV</td>\n",
       "      <td id=\"T_c3b15_row1_col6\" class=\"data row1 col6\" >U2</td>\n",
       "      <td id=\"T_c3b15_row1_col7\" class=\"data row1 col7\" >snRNA</td>\n",
       "      <td id=\"T_c3b15_row1_col8\" class=\"data row1 col8\" >1.813</td>\n",
       "      <td id=\"T_c3b15_row1_col9\" class=\"data row1 col9\" >33678</td>\n",
       "      <td id=\"T_c3b15_row1_col10\" class=\"data row1 col10\" >18577.501</td>\n",
       "      <td id=\"T_c3b15_row1_col11\" class=\"data row1 col11\" >0.000</td>\n",
       "      <td id=\"T_c3b15_row1_col12\" class=\"data row1 col12\" >True</td>\n",
       "      <td id=\"T_c3b15_row1_col13\" class=\"data row1 col13\" >2</td>\n",
       "      <td id=\"T_c3b15_row1_col14\" class=\"data row1 col14\" >2</td>\n",
       "    </tr>\n",
       "    <tr>\n",
       "      <th id=\"T_c3b15_level0_row2\" class=\"row_heading level0 row2\" >2</th>\n",
       "      <td id=\"T_c3b15_row2_col0\" class=\"data row2 col0\" >51862</td>\n",
       "      <td id=\"T_c3b15_row2_col1\" class=\"data row2 col1\" >chr22</td>\n",
       "      <td id=\"T_c3b15_row2_col2\" class=\"data row2 col2\" >10736174</td>\n",
       "      <td id=\"T_c3b15_row2_col3\" class=\"data row2 col3\" >G</td>\n",
       "      <td id=\"T_c3b15_row2_col4\" class=\"data row2 col4\" >A</td>\n",
       "      <td id=\"T_c3b15_row2_col5\" class=\"data row2 col5\" >SNV</td>\n",
       "      <td id=\"T_c3b15_row2_col6\" class=\"data row2 col6\" >U2</td>\n",
       "      <td id=\"T_c3b15_row2_col7\" class=\"data row2 col7\" >snRNA</td>\n",
       "      <td id=\"T_c3b15_row2_col8\" class=\"data row2 col8\" >1.804</td>\n",
       "      <td id=\"T_c3b15_row2_col9\" class=\"data row2 col9\" >32745</td>\n",
       "      <td id=\"T_c3b15_row2_col10\" class=\"data row2 col10\" >18156.171</td>\n",
       "      <td id=\"T_c3b15_row2_col11\" class=\"data row2 col11\" >0.000</td>\n",
       "      <td id=\"T_c3b15_row2_col12\" class=\"data row2 col12\" >True</td>\n",
       "      <td id=\"T_c3b15_row2_col13\" class=\"data row2 col13\" >3</td>\n",
       "      <td id=\"T_c3b15_row2_col14\" class=\"data row2 col14\" >3</td>\n",
       "    </tr>\n",
       "    <tr>\n",
       "      <th id=\"T_c3b15_level0_row3\" class=\"row_heading level0 row3\" >3</th>\n",
       "      <td id=\"T_c3b15_row3_col0\" class=\"data row3 col0\" >51363</td>\n",
       "      <td id=\"T_c3b15_row3_col1\" class=\"data row3 col1\" >chr21</td>\n",
       "      <td id=\"T_c3b15_row3_col2\" class=\"data row3 col2\" >9646988</td>\n",
       "      <td id=\"T_c3b15_row3_col3\" class=\"data row3 col3\" >A</td>\n",
       "      <td id=\"T_c3b15_row3_col4\" class=\"data row3 col4\" >G</td>\n",
       "      <td id=\"T_c3b15_row3_col5\" class=\"data row3 col5\" >SNV</td>\n",
       "      <td id=\"T_c3b15_row3_col6\" class=\"data row3 col6\" >U1</td>\n",
       "      <td id=\"T_c3b15_row3_col7\" class=\"data row3 col7\" >snRNA</td>\n",
       "      <td id=\"T_c3b15_row3_col8\" class=\"data row3 col8\" >1.775</td>\n",
       "      <td id=\"T_c3b15_row3_col9\" class=\"data row3 col9\" >49675</td>\n",
       "      <td id=\"T_c3b15_row3_col10\" class=\"data row3 col10\" >27979.594</td>\n",
       "      <td id=\"T_c3b15_row3_col11\" class=\"data row3 col11\" >0.000</td>\n",
       "      <td id=\"T_c3b15_row3_col12\" class=\"data row3 col12\" >True</td>\n",
       "      <td id=\"T_c3b15_row3_col13\" class=\"data row3 col13\" >4</td>\n",
       "      <td id=\"T_c3b15_row3_col14\" class=\"data row3 col14\" >4</td>\n",
       "    </tr>\n",
       "    <tr>\n",
       "      <th id=\"T_c3b15_level0_row4\" class=\"row_heading level0 row4\" >4</th>\n",
       "      <td id=\"T_c3b15_row4_col0\" class=\"data row4 col0\" >51861</td>\n",
       "      <td id=\"T_c3b15_row4_col1\" class=\"data row4 col1\" >chr22</td>\n",
       "      <td id=\"T_c3b15_row4_col2\" class=\"data row4 col2\" >10736173</td>\n",
       "      <td id=\"T_c3b15_row4_col3\" class=\"data row4 col3\" >G</td>\n",
       "      <td id=\"T_c3b15_row4_col4\" class=\"data row4 col4\" >T</td>\n",
       "      <td id=\"T_c3b15_row4_col5\" class=\"data row4 col5\" >SNV</td>\n",
       "      <td id=\"T_c3b15_row4_col6\" class=\"data row4 col6\" >U2</td>\n",
       "      <td id=\"T_c3b15_row4_col7\" class=\"data row4 col7\" >snRNA</td>\n",
       "      <td id=\"T_c3b15_row4_col8\" class=\"data row4 col8\" >1.677</td>\n",
       "      <td id=\"T_c3b15_row4_col9\" class=\"data row4 col9\" >25899</td>\n",
       "      <td id=\"T_c3b15_row4_col10\" class=\"data row4 col10\" >15445.068</td>\n",
       "      <td id=\"T_c3b15_row4_col11\" class=\"data row4 col11\" >0.000</td>\n",
       "      <td id=\"T_c3b15_row4_col12\" class=\"data row4 col12\" >True</td>\n",
       "      <td id=\"T_c3b15_row4_col13\" class=\"data row4 col13\" >5</td>\n",
       "      <td id=\"T_c3b15_row4_col14\" class=\"data row4 col14\" >5</td>\n",
       "    </tr>\n",
       "  </tbody>\n",
       "</table>\n",
       "</div>"
      ],
      "text/plain": [
       "<IPython.core.display.HTML object>"
      ]
     },
     "metadata": {},
     "output_type": "display_data"
    }
   ],
   "source": [
    "df = pd.read_csv(FILE_IN, sep=\"\\t\").check.head()"
   ]
  }
 ],
 "metadata": {
  "kernelspec": {
   "display_name": "crdg_test",
   "language": "python",
   "name": "python3"
  },
  "language_info": {
   "codemirror_mode": {
    "name": "ipython",
    "version": 3
   },
   "file_extension": ".py",
   "mimetype": "text/x-python",
   "name": "python",
   "nbconvert_exporter": "python",
   "pygments_lexer": "ipython3",
   "version": "3.12.11"
  }
 },
 "nbformat": 4,
 "nbformat_minor": 2
}
