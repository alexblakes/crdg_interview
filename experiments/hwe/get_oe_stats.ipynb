{
 "cells": [
  {
   "cell_type": "code",
   "execution_count": 1,
   "metadata": {},
   "outputs": [],
   "source": [
    "import pandas as pd\n",
    "import numpy as np\n",
    "from scipy import stats\n",
    "\n",
    "import src\n",
    "from src import pandas_utils as pdu\n",
    "\n",
    "from experiments.variant_density import parse_gnomad_variants\n",
    "\n",
    "FILE_IN=\"data/interim/gnomad_snrna_variants_tidy_inbreeding_coeff.tsv\"\n",
    "FILE_OUT=\"data/final/gnomad_snrna_variants_hwe_stats.tsv\""
   ]
  },
  {
   "cell_type": "code",
   "execution_count": 2,
   "metadata": {},
   "outputs": [],
   "source": [
    "def per_row_chi2(row):\n",
    "    an = row[\"an\"]\n",
    "    obs = row[\"het_obs\"]\n",
    "    obs_remainder = an - obs\n",
    "    exp = row[\"het_exp\"]\n",
    "    exp_remainder = an - exp\n",
    "\n",
    "    chi2, pval = stats.chisquare([obs, obs_remainder], [exp, exp_remainder])\n",
    "    return chi2, pval"
   ]
  },
  {
   "cell_type": "code",
   "execution_count": 3,
   "metadata": {},
   "outputs": [
    {
     "data": {
      "text/markdown": [
       "<h5 style='text-align: left'><span style='color:None; background-color:None'>Input variants: 54237</span></h5>"
      ],
      "text/plain": [
       "<IPython.core.display.Markdown object>"
      ]
     },
     "metadata": {},
     "output_type": "display_data"
    },
    {
     "data": {
      "text/markdown": [
       "<h5 style='text-align: left'><span style='color:None; background-color:None'>Variants after dropping sex chromosomes: 52683</span></h5>"
      ],
      "text/plain": [
       "<IPython.core.display.Markdown object>"
      ]
     },
     "metadata": {},
     "output_type": "display_data"
    },
    {
     "data": {
      "text/markdown": [
       "<h5 style='text-align: left'><span style='color:None; background-color:None'>Variant counts by filter:</span></h5>"
      ],
      "text/plain": [
       "<IPython.core.display.Markdown object>"
      ]
     },
     "metadata": {},
     "output_type": "display_data"
    },
    {
     "data": {
      "text/html": [
       "<div style=\"margin-left: 30px;\"><style type=\"text/css\">\n",
       "#T_6ff89 tr:hover {\n",
       "  background-color: #2986cc;\n",
       "}\n",
       "</style>\n",
       "<table id=\"T_6ff89\">\n",
       "  <thead>\n",
       "    <tr>\n",
       "      <th class=\"blank level0\" >&nbsp;</th>\n",
       "      <th id=\"T_6ff89_level0_col0\" class=\"col_heading level0 col0\" >count</th>\n",
       "    </tr>\n",
       "    <tr>\n",
       "      <th class=\"index_name level0\" >filter</th>\n",
       "      <th class=\"blank col0\" >&nbsp;</th>\n",
       "    </tr>\n",
       "  </thead>\n",
       "  <tbody>\n",
       "    <tr>\n",
       "      <th id=\"T_6ff89_level0_row0\" class=\"row_heading level0 row0\" >PASS</th>\n",
       "      <td id=\"T_6ff89_row0_col0\" class=\"data row0 col0\" >52661</td>\n",
       "    </tr>\n",
       "    <tr>\n",
       "      <th id=\"T_6ff89_level0_row1\" class=\"row_heading level0 row1\" >InbreedingCoeff</th>\n",
       "      <td id=\"T_6ff89_row1_col0\" class=\"data row1 col0\" >22</td>\n",
       "    </tr>\n",
       "  </tbody>\n",
       "</table>\n",
       "</div>"
      ],
      "text/plain": [
       "<IPython.core.display.HTML object>"
      ]
     },
     "metadata": {},
     "output_type": "display_data"
    },
    {
     "data": {
      "text/markdown": [
       "<h5 style='text-align: left'><span style='color:None; background-color:None'>Allele type value counts:</span></h5>"
      ],
      "text/plain": [
       "<IPython.core.display.Markdown object>"
      ]
     },
     "metadata": {},
     "output_type": "display_data"
    },
    {
     "data": {
      "text/html": [
       "<div style=\"margin-left: 30px;\"><style type=\"text/css\">\n",
       "#T_18300 tr:hover {\n",
       "  background-color: #2986cc;\n",
       "}\n",
       "</style>\n",
       "<table id=\"T_18300\">\n",
       "  <thead>\n",
       "    <tr>\n",
       "      <th class=\"blank level0\" >&nbsp;</th>\n",
       "      <th id=\"T_18300_level0_col0\" class=\"col_heading level0 col0\" >count</th>\n",
       "    </tr>\n",
       "    <tr>\n",
       "      <th class=\"index_name level0\" >allele_type</th>\n",
       "      <th class=\"blank col0\" >&nbsp;</th>\n",
       "    </tr>\n",
       "  </thead>\n",
       "  <tbody>\n",
       "    <tr>\n",
       "      <th id=\"T_18300_level0_row0\" class=\"row_heading level0 row0\" >SNV</th>\n",
       "      <td id=\"T_18300_row0_col0\" class=\"data row0 col0\" >47948</td>\n",
       "    </tr>\n",
       "    <tr>\n",
       "      <th id=\"T_18300_level0_row1\" class=\"row_heading level0 row1\" >Indel</th>\n",
       "      <td id=\"T_18300_row1_col0\" class=\"data row1 col0\" >4735</td>\n",
       "    </tr>\n",
       "  </tbody>\n",
       "</table>\n",
       "</div>"
      ],
      "text/plain": [
       "<IPython.core.display.HTML object>"
      ]
     },
     "metadata": {},
     "output_type": "display_data"
    },
    {
     "data": {
      "text/markdown": [
       "<h5 style='text-align: left'><span style='color:None; background-color:None'>Gene type value counts:</span></h5>"
      ],
      "text/plain": [
       "<IPython.core.display.Markdown object>"
      ]
     },
     "metadata": {},
     "output_type": "display_data"
    },
    {
     "data": {
      "text/html": [
       "<div style=\"margin-left: 30px;\"><style type=\"text/css\">\n",
       "#T_3f8fd tr:hover {\n",
       "  background-color: #2986cc;\n",
       "}\n",
       "</style>\n",
       "<table id=\"T_3f8fd\">\n",
       "  <thead>\n",
       "    <tr>\n",
       "      <th class=\"blank level0\" >&nbsp;</th>\n",
       "      <th id=\"T_3f8fd_level0_col0\" class=\"col_heading level0 col0\" >count</th>\n",
       "    </tr>\n",
       "    <tr>\n",
       "      <th class=\"index_name level0\" >gene_type</th>\n",
       "      <th class=\"blank col0\" >&nbsp;</th>\n",
       "    </tr>\n",
       "  </thead>\n",
       "  <tbody>\n",
       "    <tr>\n",
       "      <th id=\"T_3f8fd_level0_row0\" class=\"row_heading level0 row0\" >Pseudogene</th>\n",
       "      <td id=\"T_3f8fd_row0_col0\" class=\"data row0 col0\" >1660</td>\n",
       "    </tr>\n",
       "    <tr>\n",
       "      <th id=\"T_3f8fd_level0_row1\" class=\"row_heading level0 row1\" >snRNA</th>\n",
       "      <td id=\"T_3f8fd_row1_col0\" class=\"data row1 col0\" >112</td>\n",
       "    </tr>\n",
       "  </tbody>\n",
       "</table>\n",
       "</div>"
      ],
      "text/plain": [
       "<IPython.core.display.HTML object>"
      ]
     },
     "metadata": {},
     "output_type": "display_data"
    },
    {
     "data": {
      "text/markdown": [
       "<h5 style='text-align: left'><span style='color:None; background-color:None'>Duplicate variants: 0</span></h5>"
      ],
      "text/plain": [
       "<IPython.core.display.Markdown object>"
      ]
     },
     "metadata": {},
     "output_type": "display_data"
    },
    {
     "data": {
      "text/markdown": [
       "<h5 style='text-align: left'><span style='color:None; background-color:None'>Number of variants: 52683</span></h5>"
      ],
      "text/plain": [
       "<IPython.core.display.Markdown object>"
      ]
     },
     "metadata": {},
     "output_type": "display_data"
    },
    {
     "data": {
      "text/markdown": [
       "<h5 style='text-align: left'><span style='color:None; background-color:None'>Number of genes: 1772</span></h5>"
      ],
      "text/plain": [
       "<IPython.core.display.Markdown object>"
      ]
     },
     "metadata": {},
     "output_type": "display_data"
    },
    {
     "data": {
      "text/markdown": [
       "<h5 style='text-align: left'><span style='color:black; background-color:green'>Pass assert: all AC > 0</span></h5>"
      ],
      "text/plain": [
       "<IPython.core.display.Markdown object>"
      ]
     },
     "metadata": {},
     "output_type": "display_data"
    },
    {
     "data": {
      "text/markdown": [
       "<h5 style='text-align: left'><span style='color:None; background-color:None'>Duplicate gene symbols, different ENSG IDs:</span></h5>"
      ],
      "text/plain": [
       "<IPython.core.display.Markdown object>"
      ]
     },
     "metadata": {},
     "output_type": "display_data"
    },
    {
     "data": {
      "text/html": [
       "<div style=\"margin-left: 30px;\"><style type=\"text/css\">\n",
       "#T_6a311 tr:hover {\n",
       "  background-color: #2986cc;\n",
       "}\n",
       "</style>\n",
       "<table id=\"T_6a311\">\n",
       "  <thead>\n",
       "    <tr>\n",
       "      <th class=\"blank level0\" >&nbsp;</th>\n",
       "      <th id=\"T_6a311_level0_col0\" class=\"col_heading level0 col0\" >count</th>\n",
       "    </tr>\n",
       "    <tr>\n",
       "      <th class=\"index_name level0\" >symbol</th>\n",
       "      <th class=\"blank col0\" >&nbsp;</th>\n",
       "    </tr>\n",
       "  </thead>\n",
       "  <tbody>\n",
       "    <tr>\n",
       "      <th id=\"T_6a311_level0_row0\" class=\"row_heading level0 row0\" >U6</th>\n",
       "      <td id=\"T_6a311_row0_col0\" class=\"data row0 col0\" >30</td>\n",
       "    </tr>\n",
       "    <tr>\n",
       "      <th id=\"T_6a311_level0_row1\" class=\"row_heading level0 row1\" >U2</th>\n",
       "      <td id=\"T_6a311_row1_col0\" class=\"data row1 col0\" >14</td>\n",
       "    </tr>\n",
       "    <tr>\n",
       "      <th id=\"T_6a311_level0_row2\" class=\"row_heading level0 row2\" >U4</th>\n",
       "      <td id=\"T_6a311_row2_col0\" class=\"data row2 col0\" >7</td>\n",
       "    </tr>\n",
       "    <tr>\n",
       "      <th id=\"T_6a311_level0_row3\" class=\"row_heading level0 row3\" >U7</th>\n",
       "      <td id=\"T_6a311_row3_col0\" class=\"data row3 col0\" >6</td>\n",
       "    </tr>\n",
       "    <tr>\n",
       "      <th id=\"T_6a311_level0_row4\" class=\"row_heading level0 row4\" >U1</th>\n",
       "      <td id=\"T_6a311_row4_col0\" class=\"data row4 col0\" >3</td>\n",
       "    </tr>\n",
       "  </tbody>\n",
       "</table>\n",
       "</div>"
      ],
      "text/plain": [
       "<IPython.core.display.HTML object>"
      ]
     },
     "metadata": {},
     "output_type": "display_data"
    },
    {
     "data": {
      "text/markdown": [
       "<h5 style='text-align: left'><span style='color:None; background-color:None'>ENSG IDs on multiple chromosomes:</span></h5>"
      ],
      "text/plain": [
       "<IPython.core.display.Markdown object>"
      ]
     },
     "metadata": {},
     "output_type": "display_data"
    },
    {
     "data": {
      "text/html": [
       "<div style=\"margin-left: 30px;\"><style type=\"text/css\">\n",
       "#T_9833d tr:hover {\n",
       "  background-color: #2986cc;\n",
       "}\n",
       "</style>\n",
       "<table id=\"T_9833d\">\n",
       "  <thead>\n",
       "    <tr>\n",
       "      <th class=\"blank level0\" >&nbsp;</th>\n",
       "      <th id=\"T_9833d_level0_col0\" class=\"col_heading level0 col0\" >chrom</th>\n",
       "      <th id=\"T_9833d_level0_col1\" class=\"col_heading level0 col1\" >ensg</th>\n",
       "    </tr>\n",
       "  </thead>\n",
       "  <tbody>\n",
       "  </tbody>\n",
       "</table>\n",
       "</div>"
      ],
      "text/plain": [
       "<IPython.core.display.HTML object>"
      ]
     },
     "metadata": {},
     "output_type": "display_data"
    },
    {
     "data": {
      "text/markdown": [
       "<h5 style='text-align: left'><span style='color:None; background-color:None'>Variants with valid \"het_exp\" values: : 52604</span></h5>"
      ],
      "text/plain": [
       "<IPython.core.display.Markdown object>"
      ]
     },
     "metadata": {},
     "output_type": "display_data"
    },
    {
     "name": "stderr",
     "output_type": "stream",
     "text": [
      "/mnt/iusers01/bk01/m40482ab/miniforge3/envs/crdg_test/lib/python3.12/site-packages/scipy/stats/_stats_py.py:7400: RuntimeWarning: invalid value encountered in divide\n",
      "  terms = (f_obs - f_exp)**2 / f_exp\n"
     ]
    },
    {
     "data": {
      "text/markdown": [
       "<h5 style='text-align: left'><span style='color:None; background-color:None'>Variants with valid chi squared P values:: 52593</span></h5>"
      ],
      "text/plain": [
       "<IPython.core.display.Markdown object>"
      ]
     },
     "metadata": {},
     "output_type": "display_data"
    },
    {
     "data": {
      "text/markdown": [
       "<h5 style='text-align: left'><span style='color:None; background-color:None'>Bonferroni significance threshold = 9.51e-07</span></h5>"
      ],
      "text/plain": [
       "<IPython.core.display.Markdown object>"
      ]
     },
     "metadata": {},
     "output_type": "display_data"
    }
   ],
   "source": [
    "df = (\n",
    "    pd.read_csv(FILE_IN, sep=\"\\t\")\n",
    "    # .check.disable_checks(enable_asserts=False)\n",
    "    .check.nrows(check_name=\"Input variants\")\n",
    "    .loc[lambda x: ~x[\"chrom\"].isin([\"chrX\", \"chrY\"])]\n",
    "    .check.nrows(check_name=\"Variants after dropping sex chromosomes\")\n",
    "    .check.value_counts(\"filter\", check_name=\"Variant counts by filter:\")\n",
    "    .pipe(parse_gnomad_variants.parse_gnomad_variants)\n",
    "    # .check.enable_checks()\n",
    "    .loc[\n",
    "        :,\n",
    "        [\n",
    "            \"chrom\",\n",
    "            \"pos\",\n",
    "            \"ref\",\n",
    "            \"alt\",\n",
    "            \"ac\",\n",
    "            \"an\",\n",
    "            \"af\",\n",
    "            \"nhomalt\",\n",
    "            \"allele_type\",\n",
    "            \"coi\",\n",
    "            \"symbol\",\n",
    "            \"ensg\",\n",
    "            \"gene_type\",\n",
    "        ],\n",
    "    ]\n",
    "    .assign(\n",
    "        oe=lambda x: 1 - x[\"coi\"],\n",
    "        het_obs=lambda x: x[\"ac\"] - 2 * x[\"nhomalt\"],\n",
    "        het_exp=lambda x: x[\"het_obs\"] / x[\"oe\"],\n",
    "    )\n",
    "    .check.function(\n",
    "        lambda x: x[\"het_exp\"].dropna().shape[0],\n",
    "        check_name='Variants with valid \"het_exp\" values: ',\n",
    "    )\n",
    "    .pipe(pdu.assign_with_per_row_fn, per_row_chi2, new_cols=[\"chi2\", \"chi2_pval\"])\n",
    "    .dropna(subset=\"chi2_pval\")\n",
    "    .check.nrows(check_name=\"Variants with valid chi squared P values:\")\n",
    "    .check.function(\n",
    "        lambda x: f\"Bonferroni significance threshold = {0.05 / len(x):.2e}\"\n",
    "    )\n",
    "    .sort_values(\"oe\", ascending=False)  # Important for ranking\n",
    "    .assign(\n",
    "        bfr_sig=lambda x: np.where(x[\"chi2_pval\"] < 0.05 / len(x), True, False),\n",
    "        rank_oe=lambda x: x[\"oe\"].rank(ascending=False, method=\"first\").astype(int),\n",
    "        rank_p=lambda x: x[\"chi2_pval\"]\n",
    "        .rank(ascending=True, method=\"first\")\n",
    "        .astype(int),\n",
    "    )\n",
    "    .check.write(FILE_OUT, index=False)\n",
    ")"
   ]
  },
  {
   "cell_type": "markdown",
   "metadata": {},
   "source": [
    "chrom\tpos\tref\talt\tac\tan\tnhomalt\tallele_type\tcoi\tsymbol\tensg\tgene_type\toe\thet_obs\thet_exp\n",
    "\n",
    "chr1\t16896104\tA\tG\t944\t151294\t0\tSNV\t-0.006\tRNU1-2\tENSG00000207005.1\tsnRNA\t1.006\t944\t938.076"
   ]
  }
 ],
 "metadata": {
  "kernelspec": {
   "display_name": "crdg_test",
   "language": "python",
   "name": "python3"
  },
  "language_info": {
   "codemirror_mode": {
    "name": "ipython",
    "version": 3
   },
   "file_extension": ".py",
   "mimetype": "text/x-python",
   "name": "python",
   "nbconvert_exporter": "python",
   "pygments_lexer": "ipython3",
   "version": "3.12.11"
  }
 },
 "nbformat": 4,
 "nbformat_minor": 2
}
